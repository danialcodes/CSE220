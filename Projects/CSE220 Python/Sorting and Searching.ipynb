{
 "cells": [
  {
   "cell_type": "code",
   "execution_count": 1,
   "id": "7bb35e81",
   "metadata": {},
   "outputs": [
    {
     "name": "stdout",
     "output_type": "stream",
     "text": [
      "([1, 2, 3, 4, 5, 8, 10, 12], 28)\n"
     ]
    }
   ],
   "source": [
    "# Bubble Sort\n",
    "bs = [2,10,4,3,12,1,5,8]\n",
    "def boubleSort(a):\n",
    "    count=0\n",
    "    for i in range(len(a)-1,-1,-1):\n",
    "        for j in range(i):\n",
    "            count+=1\n",
    "            if(a[j]>a[j+1]):\n",
    "                temp = a[j+1]\n",
    "                a[j+1]=a[j]\n",
    "                a[j]=temp\n",
    "    return a,count\n",
    "print(boubleSort(bs))"
   ]
  },
  {
   "cell_type": "code",
   "execution_count": 2,
   "id": "27c43a3d",
   "metadata": {},
   "outputs": [
    {
     "name": "stdout",
     "output_type": "stream",
     "text": [
      "([1, 2, 3, 4, 5, 8, 10, 12], 36)\n"
     ]
    }
   ],
   "source": [
    "# Selection Sort\n",
    "ss = [2,10,4,3,12,1,5,8]\n",
    "def SelectionSort(a):\n",
    "    count = 0\n",
    "    for i in range(len(a)-1,-1,-1):\n",
    "        maxim = a[0]\n",
    "        max_indx = 0\n",
    "        for j in range(i+1):\n",
    "            count+=1\n",
    "            if(a[j]>maxim):\n",
    "                maxim=a[j]\n",
    "                max_indx = j\n",
    "        temp = a[i]\n",
    "        a[i]=maxim\n",
    "        a[max_indx]=temp\n",
    "    return a,count\n",
    "print(SelectionSort(ss))\n"
   ]
  },
  {
   "cell_type": "code",
   "execution_count": 2,
   "id": "e04859a1",
   "metadata": {
    "scrolled": true
   },
   "outputs": [
    {
     "name": "stdout",
     "output_type": "stream",
     "text": [
      "[2, 4, 3, 10, 1, 5, 8, 12] 0\n",
      "[2, 4, 3, 10, 1, 5, 8, 12] 1\n",
      "[2, 4, 3, 10, 1, 5, 8, 12] 2\n",
      "[2, 3, 4, 10, 1, 5, 8, 12] 3\n",
      "[2, 3, 4, 10, 1, 5, 8, 12] 4\n",
      "[1, 2, 3, 4, 10, 5, 8, 12] 5\n",
      "[1, 2, 3, 4, 5, 10, 8, 12] 6\n",
      "[1, 2, 3, 4, 5, 8, 10, 12] 7\n",
      "([1, 2, 3, 4, 5, 8, 10, 12], 13)\n"
     ]
    }
   ],
   "source": [
    "# Insertion Sort\n",
    "max = 10,\n",
    "\n",
    "\n",
    "\n",
    "iS = [2,4,3,10,1,5,8,12]\n",
    "\n",
    "\n",
    "\n",
    "\n",
    "\n",
    "\n",
    "\n",
    "def insertionSort(a):\n",
    "    count = 0\n",
    "    for i in range(len(a)):\n",
    "        print(a,i)\n",
    "        for j in range(i-1,-1,-1):\n",
    "            count+=1\n",
    "            \n",
    "            if (a[j]>a[j+1]):\n",
    "                temp = a[j]\n",
    "                a[j] = a[j+1]\n",
    "                a[j+1] = temp\n",
    "            else:\n",
    "                break\n",
    "    return a,count\n",
    "print(insertionSort(iS))"
   ]
  },
  {
   "cell_type": "code",
   "execution_count": 4,
   "id": "a67a1ac7",
   "metadata": {},
   "outputs": [],
   "source": [
    "# Searching"
   ]
  },
  {
   "cell_type": "code",
   "execution_count": 5,
   "id": "786081c6",
   "metadata": {},
   "outputs": [
    {
     "data": {
      "text/plain": [
       "1"
      ]
     },
     "execution_count": 5,
     "metadata": {},
     "output_type": "execute_result"
    }
   ],
   "source": [
    "# linear Search\n",
    "Ls = [2,10,4,3,12,1,5,8]\n",
    "def linearSearch(a,n):\n",
    "    for i in range(len(a)):\n",
    "        if(a[i]==n):\n",
    "            return i\n",
    "    return -1\n",
    "Ls[linearSearch(Ls,1)]"
   ]
  },
  {
   "cell_type": "code",
   "execution_count": 16,
   "id": "798b5d96",
   "metadata": {},
   "outputs": [
    {
     "data": {
      "text/plain": [
       "(-1, 4)"
      ]
     },
     "execution_count": 16,
     "metadata": {},
     "output_type": "execute_result"
    }
   ],
   "source": [
    "def binarySearch(a,n):\n",
    "    l = 0\n",
    "    r = len(a)-1\n",
    "    count = 0\n",
    "    while ( l<= r):\n",
    "        count+=1\n",
    "        m = (l+r)//2\n",
    "        if(a[m]==n):return m,count\n",
    "        elif(a[m]>n):\n",
    "            r=m-1\n",
    "        else:\n",
    "            l=m+1\n",
    "    return -1,count\n",
    "        \n",
    "binarySearch(iS,90)"
   ]
  },
  {
   "cell_type": "code",
   "execution_count": null,
   "id": "c3251bc1",
   "metadata": {},
   "outputs": [],
   "source": []
  }
 ],
 "metadata": {
  "kernelspec": {
   "display_name": "Python 3",
   "language": "python",
   "name": "python3"
  },
  "language_info": {
   "codemirror_mode": {
    "name": "ipython",
    "version": 3
   },
   "file_extension": ".py",
   "mimetype": "text/x-python",
   "name": "python",
   "nbconvert_exporter": "python",
   "pygments_lexer": "ipython3",
   "version": "3.8.8"
  }
 },
 "nbformat": 4,
 "nbformat_minor": 5
}
