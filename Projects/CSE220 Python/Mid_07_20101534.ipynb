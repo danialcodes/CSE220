{
 "cells": [
  {
   "cell_type": "code",
   "execution_count": 30,
   "id": "1c6bff05",
   "metadata": {},
   "outputs": [
    {
     "name": "stdout",
     "output_type": "stream",
     "text": [
      "---- 3\n",
      "4\n",
      "---- 4\n",
      "3\n",
      "---- 5\n",
      "3\n",
      "---- 6\n",
      "5\n",
      "---- 7\n",
      "---- 8\n",
      "7\n",
      "---- 9\n",
      "---- 1\n"
     ]
    },
    {
     "data": {
      "text/plain": [
       "[0, 0, -2, 4, 3, 3, 5, -6, 7, 10, 0, 0]"
      ]
     },
     "execution_count": 30,
     "metadata": {},
     "output_type": "execute_result"
    }
   ],
   "source": [
    "arr = [0,0,-2,4,3,3,5,-6,7,10,0,0]\n",
    "source = [40, 50, 0, 0, 0, 10, 20, 30]\n",
    "def checkInterval(cir_arr,size,start,interval):\n",
    "    for i in range(size):\n",
    "        start += interval-1\n",
    "        print(\"----\",start)\n",
    "        if(start>size):\n",
    "            start=0\n",
    "        if(cir_arr[start]>0):\n",
    "            print(cir_arr[start])\n",
    "        \n",
    "    return cir_arr\n",
    "checkInterval(arr,8,2,2)"
   ]
  },
  {
   "cell_type": "code",
   "execution_count": null,
   "id": "0d1f70e6",
   "metadata": {},
   "outputs": [],
   "source": []
  }
 ],
 "metadata": {
  "kernelspec": {
   "display_name": "Python 3",
   "language": "python",
   "name": "python3"
  },
  "language_info": {
   "codemirror_mode": {
    "name": "ipython",
    "version": 3
   },
   "file_extension": ".py",
   "mimetype": "text/x-python",
   "name": "python",
   "nbconvert_exporter": "python",
   "pygments_lexer": "ipython3",
   "version": "3.8.8"
  }
 },
 "nbformat": 4,
 "nbformat_minor": 5
}
