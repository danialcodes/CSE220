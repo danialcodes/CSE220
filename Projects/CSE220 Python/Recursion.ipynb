{
 "cells": [
  {
   "cell_type": "code",
   "execution_count": 2,
   "id": "3a242942",
   "metadata": {},
   "outputs": [
    {
     "name": "stdout",
     "output_type": "stream",
     "text": [
      "8\n"
     ]
    }
   ],
   "source": [
    "#Length of a String\n",
    "\n",
    "def clcLength(string):\n",
    "    \n",
    "    if(string!=\"\"):\n",
    "        return  1 + clcLength(string[1:])\n",
    "    else:\n",
    "        return 0\n",
    "    \n",
    "print(clcLength(\"Shohardo\"))"
   ]
  },
  {
   "cell_type": "code",
   "execution_count": 14,
   "id": "37acf048",
   "metadata": {},
   "outputs": [],
   "source": [
    "#Length of a Linked List\n",
    "\n",
    "def clc_LL_Length(ll):\n",
    "    if(ll is None):\n",
    "        return 0\n",
    "    else:\n",
    "        return 1 + clc_LL_Length(ll.next)\n",
    "\n",
    "\n",
    "class Node:\n",
    "    def __init__(self,v,n=None):\n",
    "        self.value = v\n",
    "        self.next = n\n",
    "class LL:\n",
    "#     head = Node(None)\n",
    "    head = None\n",
    "    \n",
    "    def __init__(self,itr):\n",
    "        \n",
    "        for i in itr:\n",
    "            nN = Node(i)\n",
    "            if(self.head is None):\n",
    "                self.head = nN\n",
    "                fst = self.head\n",
    "            else:\n",
    "                fst.next = nN\n",
    "                fst = nN\n",
    "    def show(self):\n",
    "        itr = self.head\n",
    "        while itr is not None:\n",
    "            print(itr.value,end=\" -> \")\n",
    "            itr = itr.next\n",
    "        print()"
   ]
  },
  {
   "cell_type": "code",
   "execution_count": 16,
   "id": "1f83f810",
   "metadata": {},
   "outputs": [
    {
     "name": "stdout",
     "output_type": "stream",
     "text": [
      "10 -> 20 -> 30 -> 40 -> 50 -> 60 -> 70 -> \n",
      "7\n"
     ]
    }
   ],
   "source": [
    "a = [10,20,30,40,50,60,70]\n",
    "x = LL(a)\n",
    "x.show()\n",
    "print(clc_LL_Length(x.head))"
   ]
  },
  {
   "cell_type": "code",
   "execution_count": 24,
   "id": "65f8d296",
   "metadata": {},
   "outputs": [
    {
     "name": "stdout",
     "output_type": "stream",
     "text": [
      "10 - 9 - 8 - 7 - 6 - 5 - 4 - 3 - 2 - 1 - \n",
      "55\n"
     ]
    }
   ],
   "source": [
    "#Sum of natural Number\n",
    "\n",
    "def sumOfN(n):\n",
    "    if(n<=0):\n",
    "        print()\n",
    "        return 0\n",
    "    else:\n",
    "        print(n,end=\" - \")\n",
    "        return n + sumOfN(n-1)\n",
    "print(sumOfN(10))"
   ]
  },
  {
   "cell_type": "code",
   "execution_count": 30,
   "id": "053294a1",
   "metadata": {},
   "outputs": [
    {
     "name": "stdout",
     "output_type": "stream",
     "text": [
      "10 - 9 - 8 - 7 - 6 - 5 - 4 - 3 - 2 - 1 - \n",
      "55\n"
     ]
    }
   ],
   "source": [
    "#Sum of natural Number with jump\n",
    "\n",
    "def sumOfN(n,j):\n",
    "    if(n<=0):\n",
    "        print()\n",
    "        return 0\n",
    "    else:\n",
    "        print(n,end=\" - \")\n",
    "        return n + sumOfN(n-j,j)\n",
    "print(sumOfN(10,1))"
   ]
  },
  {
   "cell_type": "code",
   "execution_count": 32,
   "id": "1be18401",
   "metadata": {},
   "outputs": [
    {
     "name": "stdout",
     "output_type": "stream",
     "text": [
      "343\n"
     ]
    }
   ],
   "source": [
    "#exponential linear way\n",
    "\n",
    "def expo(m,n):\n",
    "#     print(\"...\")\n",
    "    if n==1: return m\n",
    "    return m * expo(m,n-1)\n",
    "print(expo(7,3))"
   ]
  },
  {
   "cell_type": "code",
   "execution_count": 74,
   "id": "6b434878",
   "metadata": {},
   "outputs": [
    {
     "name": "stdout",
     "output_type": "stream",
     "text": [
      "...\n",
      "...\n",
      "...\n",
      "...\n",
      "...\n",
      "...\n",
      "...\n",
      "...\n",
      "...\n",
      "...\n",
      "...\n",
      "...\n",
      "...\n",
      "...\n",
      "...\n",
      "2401\n"
     ]
    }
   ],
   "source": [
    "#exponential half way\n",
    "\n",
    "def expo_2(m,n):\n",
    "    print(\"...\")\n",
    "    if(n==0): return 1\n",
    "#     x = expo_2(m,n//2)\n",
    "    if(n%2==0):\n",
    "        return expo_2(m,n//2)*expo_2(m,n//2)\n",
    "    else:\n",
    "        return expo_2(m,n//2)*expo_2(m,n//2)*m\n",
    "\n",
    "print(expo_2(7,4))"
   ]
  },
  {
   "cell_type": "code",
   "execution_count": 45,
   "id": "b3401cd0",
   "metadata": {},
   "outputs": [
    {
     "name": "stdout",
     "output_type": "stream",
     "text": [
      "340\n"
     ]
    }
   ],
   "source": [
    "# B to D with loop\n",
    "def BD_L(b):\n",
    "    d = 0\n",
    "    for i in b:\n",
    "        if(i == \"0\"):\n",
    "            d = d*2\n",
    "        else:\n",
    "            d = d*2 + 1\n",
    "    return d\n",
    "\n",
    "print(BD_L(\"101010100\"))"
   ]
  },
  {
   "cell_type": "code",
   "execution_count": 52,
   "id": "0d480e81",
   "metadata": {},
   "outputs": [
    {
     "name": "stdout",
     "output_type": "stream",
     "text": [
      "86\n"
     ]
    }
   ],
   "source": [
    "# B to D with Recursion\n",
    "def BD_R(b,i=0,d=0):\n",
    "#     print(\"....\")\n",
    "    if(len(b)==i):return d\n",
    "    if(b[i]==\"0\"):\n",
    "        d *=2\n",
    "    else:\n",
    "        d = d*2 +1\n",
    "    return BD_R(b,i+1,d)\n",
    "print(BD_R(\"1010110\"))"
   ]
  },
  {
   "cell_type": "code",
   "execution_count": 60,
   "id": "3cc4c5e9",
   "metadata": {},
   "outputs": [
    {
     "name": "stdout",
     "output_type": "stream",
     "text": [
      "23\n"
     ]
    }
   ],
   "source": [
    "#Sum of digit with recursion ... way 1\n",
    "def cal_sum(d,i=0,s=0):\n",
    "    if(len(d)==i): return s\n",
    "    s+=int(d[i])\n",
    "    return cal_sum(d,i+1,s)\n",
    "print(cal_sum(\"224555\"))"
   ]
  },
  {
   "cell_type": "code",
   "execution_count": 61,
   "id": "8c455ec0",
   "metadata": {},
   "outputs": [
    {
     "name": "stdout",
     "output_type": "stream",
     "text": [
      "23\n"
     ]
    }
   ],
   "source": [
    "#Sum of digit with recursion ... way 2\n",
    "def cal_sum(num,s=0):\n",
    "    if(num==0): return s\n",
    "    s+=num%10\n",
    "    num = num//10\n",
    "    return cal_sum(num,s)\n",
    "print(cal_sum(224555))"
   ]
  },
  {
   "cell_type": "code",
   "execution_count": 69,
   "id": "c8fd54ab",
   "metadata": {},
   "outputs": [
    {
     "name": "stdout",
     "output_type": "stream",
     "text": [
      "1\n"
     ]
    }
   ],
   "source": [
    "#Factorials\n",
    "def f(num):\n",
    "    if(num==0): return 1\n",
    "    if(num ==1): return num\n",
    "    return num* f(num-1)\n",
    "print(f(0))"
   ]
  },
  {
   "cell_type": "code",
   "execution_count": 1,
   "id": "46efd74f",
   "metadata": {},
   "outputs": [],
   "source": [
    "# -------------------------------- L10 Memoization --------------------"
   ]
  },
  {
   "cell_type": "code",
   "execution_count": 8,
   "id": "15f8b904",
   "metadata": {},
   "outputs": [
    {
     "name": "stdout",
     "output_type": "stream",
     "text": [
      "462\n",
      "2\n"
     ]
    }
   ],
   "source": [
    "# Grid Walking Problem\n",
    "def grid_walk(m,n):\n",
    "    if(m<0 or n<0):\n",
    "        return 0\n",
    "    if(m==0 or n==0):\n",
    "        return 1\n",
    "    return grid_walk(m-1,n)+grid_walk(m,n-1)\n",
    "print(grid_walk(5,6))\n",
    "\n",
    "# Grid Tailing Problem\n",
    "def grid_tile(n):\n",
    "    \n",
    "    if(n==1 or n==2):\n",
    "        return 1\n",
    "    return grid_tile(n-1)+grid_tile(n-2)\n",
    "print(grid_tile(3))"
   ]
  },
  {
   "cell_type": "code",
   "execution_count": 37,
   "id": "2ecaa3ce",
   "metadata": {},
   "outputs": [
    {
     "name": "stdout",
     "output_type": "stream",
     "text": [
      "[1, 5, 9, 10, 11, 20]\n"
     ]
    }
   ],
   "source": [
    "# Sorting\n",
    "# Selection Sort\n",
    "\n",
    "\n",
    "def selection_sort_loop(arr):\n",
    "    for i in range(len(arr)-1,-1,-1):\n",
    "        max_ = arr[0]\n",
    "        max_idx = 0\n",
    "        for j in range(i+1):\n",
    "            if(arr[j]>max_):\n",
    "                max_= arr[j]\n",
    "                max_idx = j\n",
    "        temp = arr[i]\n",
    "        arr[i]= max_\n",
    "        arr[max_idx]=temp\n",
    "    return arr\n",
    "arr = [1,10,9,5,11,20]\n",
    "\n",
    "print(selection_sort_loop(arr))\n"
   ]
  },
  {
   "cell_type": "code",
   "execution_count": 52,
   "id": "19f91467",
   "metadata": {},
   "outputs": [
    {
     "name": "stdout",
     "output_type": "stream",
     "text": [
      "[1, 5, 9, 10, 11, 20, 31]\n"
     ]
    }
   ],
   "source": [
    "# def find_max(arr,i):\n",
    "    \n",
    "def selection_sort_rec(arr,i):\n",
    "    if(i==0):\n",
    "        return arr\n",
    "    max_ = arr[0]\n",
    "    max_idx = 0\n",
    "    \n",
    "    for j in range(i+1):\n",
    "        if(arr[j]>max_):\n",
    "            max_= arr[j]\n",
    "            max_idx = j\n",
    "    temp = arr[i]\n",
    "    arr[i]= max_\n",
    "    arr[max_idx]=temp\n",
    "    return selection_sort_rec(arr,i-1)\n",
    "    \n",
    "arr2 = [31,1,10,9,5,11,20]\n",
    "print(selection_sort_rec(arr2,len(arr2)-1))"
   ]
  },
  {
   "cell_type": "code",
   "execution_count": 50,
   "id": "b1f9ca6a",
   "metadata": {},
   "outputs": [
    {
     "name": "stdout",
     "output_type": "stream",
     "text": [
      "([1, 5, 9, 10, 11, 20, 31], 14)\n"
     ]
    }
   ],
   "source": [
    "def insertion_sort_loop(arr):\n",
    "    count = 0\n",
    "    for i in range(len(arr)):\n",
    "        min_ = arr[i]\n",
    "        for j in range(i-1,-1,-1):\n",
    "            count+=1\n",
    "            if(arr[j]>min_):\n",
    "                temp = arr[j]\n",
    "                arr[j] = min_\n",
    "                arr[j+1] = temp\n",
    "            else:\n",
    "                break\n",
    "            \n",
    "    return arr,count\n",
    "arr3 = [31,1,10,9,5,11,20]\n",
    "print(insertion_sort_loop(arr3))\n"
   ]
  },
  {
   "cell_type": "code",
   "execution_count": 57,
   "id": "4d3502ad",
   "metadata": {},
   "outputs": [
    {
     "name": "stdout",
     "output_type": "stream",
     "text": [
      "[1, 5, 9, 10, 11, 20, 31]\n"
     ]
    }
   ],
   "source": [
    "def insertion_sort_rec(arr,i):\n",
    "    if(i==(len(arr))):\n",
    "        return arr\n",
    "    min_ = arr[i]\n",
    "    for j in range(i-1,-1,-1):\n",
    "        if(arr[j]>min_):\n",
    "            temp = arr[j]\n",
    "            arr[j] = min_\n",
    "            arr[j+1] = temp\n",
    "        else:\n",
    "            break\n",
    "    return insertion_sort_rec(arr,i+1)\n",
    "    \n",
    "arr4 = [31,1,10,9,5,11,20]\n",
    "print(insertion_sort_rec(arr4,0))"
   ]
  },
  {
   "cell_type": "code",
   "execution_count": null,
   "id": "48260330",
   "metadata": {},
   "outputs": [],
   "source": []
  }
 ],
 "metadata": {
  "kernelspec": {
   "display_name": "Python 3",
   "language": "python",
   "name": "python3"
  },
  "language_info": {
   "codemirror_mode": {
    "name": "ipython",
    "version": 3
   },
   "file_extension": ".py",
   "mimetype": "text/x-python",
   "name": "python",
   "nbconvert_exporter": "python",
   "pygments_lexer": "ipython3",
   "version": "3.8.8"
  }
 },
 "nbformat": 4,
 "nbformat_minor": 5
}
