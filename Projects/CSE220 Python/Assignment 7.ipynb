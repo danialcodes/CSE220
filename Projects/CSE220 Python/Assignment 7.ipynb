{
 "cells": [
  {
   "cell_type": "code",
   "execution_count": 1,
   "id": "718191af",
   "metadata": {},
   "outputs": [],
   "source": [
    "# Task 1 on Key index Searching & Sorting\n",
    "'''If the question doesn't limit me to use only 2 instence variable\n",
    "i'll use max and min as self.max and self.min to reduce code repetation\n",
    "in search() and sort() method\n",
    "'''\n",
    "\n",
    "class KeyIndex:\n",
    "#     k = [0]\n",
    "    def __init__(self,a):\n",
    "        self.k = [0]\n",
    "        self.passed_array = a\n",
    "        _min = min(a)\n",
    "        _max = max(a)\n",
    "        if(_min>0):\n",
    "            _min = 0\n",
    "\n",
    "        self.k*= ( _max+1 + _min*-1)\n",
    "        \n",
    "        for i in a:\n",
    "            self.k[ i+(_min*-1)]+=1\n",
    "            \n",
    "    def __str__(self):\n",
    "        return str(self.passed_array)\n",
    "    \n",
    "    def search(self,val):\n",
    "        _max , _min = max(self.passed_array) , min(self.passed_array)\n",
    "        if(_min>0):\n",
    "            _min = 0\n",
    "            \n",
    "        if(val<=_max and val>=_min and self.k[val+(_min*-1)]):\n",
    "            return True\n",
    "        return False\n",
    "    \n",
    "    def sort(self):\n",
    "        indx = 0\n",
    "        _min = min(self.passed_array)\n",
    "        if(_min>0):\n",
    "            _min = 0\n",
    "        for i in range(len(self.k)):\n",
    "            for j in range(self.k[i],0,-1):\n",
    "                self.passed_array[indx]=i-(_min*-1)\n",
    "                indx+=1\n",
    "        return self.passed_array\n",
    "        "
   ]
  },
  {
   "cell_type": "code",
   "execution_count": 48,
   "id": "5bd4553c",
   "metadata": {},
   "outputs": [
    {
     "name": "stdout",
     "output_type": "stream",
     "text": [
      "\n",
      "//=======Task 1 -- Key index Searching & Sorting=======//\n",
      "\n",
      "//For Positive and distinct integers //\n",
      "Initial Array: [5, 1, 4, 10, 7, 9, 15]\n",
      "Searching 7 ...\n",
      "Result: True\n",
      "Searching 20 ...\n",
      "Result: False\n",
      "Sorted Array: [1, 4, 5, 7, 9, 10, 15]\n",
      "\n",
      "//For Negetive/Positive and distinct,non-distinct integers //\n",
      "Initial Array: [-14, -20, -5, -10, 0, 5, 16]\n",
      "Searching -14 ...\n",
      "Result: True\n",
      "Searching 16 ...\n",
      "Result: True\n",
      "Sorted Array: [-20, -14, -10, -5, 0, 5, 16]\n"
     ]
    }
   ],
   "source": [
    "print(\"\\n//=======Task 1 -- Key index Searching & Sorting=======//\")\n",
    "\n",
    "print(\"\\n//For Positive and distinct integers //\")\n",
    "arr1 = [5,1,4,10,7,9,15]\n",
    "KI1 = KeyIndex(arr1)\n",
    "print(\"Initial Array:\",KI1)\n",
    "print(\"Searching 7 ...\")\n",
    "print(\"Result:\",KI1.search(7))\n",
    "print(\"Searching 20 ...\")\n",
    "print(\"Result:\",KI1.search(20))\n",
    "print(\"Sorted Array:\",KI1.sort())\n",
    "\n",
    "print(\"\\n//For Negetive/Positive and distinct,non-distinct integers //\")\n",
    "arr2 = [-14,-20,-5,-10,0,5,16]\n",
    "KI2 = KeyIndex(arr2)\n",
    "print(\"Initial Array:\",KI2)\n",
    "print(\"Searching -14 ...\")\n",
    "print(\"Result:\",KI2.search(-14))\n",
    "print(\"Searching 16 ...\")\n",
    "print(\"Result:\",KI2.search(16))\n",
    "print(\"Sorted Array:\",KI2.sort())"
   ]
  },
  {
   "cell_type": "code",
   "execution_count": 49,
   "id": "ad3d2dd0",
   "metadata": {},
   "outputs": [],
   "source": [
    "# Task 2 on Hashing\n",
    "class HashTable:\n",
    "    def __init__(self,a):\n",
    "        self.k = [0]*9\n",
    "        for i in a:\n",
    "            h = self.cal_hash(i)\n",
    "            if(self.k[h]):\n",
    "                while(self.k[h]):\n",
    "                    h=(h+1)%9\n",
    "                self.k[h]=i\n",
    "            else:\n",
    "                self.k[h]=i\n",
    "            \n",
    "    @staticmethod\n",
    "    def cal_hash(val):\n",
    "        v = \"AEIOU\"\n",
    "        c_count = 0\n",
    "        v_sum = 0\n",
    "        for i in val:\n",
    "            if(i>=\"0\" and i<=\"9\"):\n",
    "                v_sum+=int(i)\n",
    "            elif( i not in v):\n",
    "                c_count+=1\n",
    "        return (c_count*24+v_sum)%9\n",
    "#     Just made search method for trying, it's not perfect if collition present\n",
    "    def search(self,val):\n",
    "        h = self.cal_hash(val)\n",
    "        if(self.k[h]==val):\n",
    "            return True\n",
    "        return False"
   ]
  },
  {
   "cell_type": "code",
   "execution_count": 1,
   "id": "646b3aed",
   "metadata": {},
   "outputs": [
    {
     "name": "stdout",
     "output_type": "stream",
     "text": [
      "\n",
      "//=======Task 2 -- Hashing=======//\n"
     ]
    },
    {
     "ename": "NameError",
     "evalue": "name 'HashTable' is not defined",
     "output_type": "error",
     "traceback": [
      "\u001b[1;31m---------------------------------------------------------------------------\u001b[0m",
      "\u001b[1;31mNameError\u001b[0m                                 Traceback (most recent call last)",
      "\u001b[1;32m<ipython-input-1-dbda6c987a3d>\u001b[0m in \u001b[0;36m<module>\u001b[1;34m\u001b[0m\n\u001b[0;32m      1\u001b[0m \u001b[0mprint\u001b[0m\u001b[1;33m(\u001b[0m\u001b[1;34m\"\\n//=======Task 2 -- Hashing=======//\"\u001b[0m\u001b[1;33m)\u001b[0m\u001b[1;33m\u001b[0m\u001b[1;33m\u001b[0m\u001b[0m\n\u001b[0;32m      2\u001b[0m \u001b[0marr2\u001b[0m \u001b[1;33m=\u001b[0m \u001b[1;33m[\u001b[0m\u001b[1;34m\"ST1E89B8A32\"\u001b[0m\u001b[1;33m,\u001b[0m\u001b[1;34m\"kdfd24sddc4d\"\u001b[0m\u001b[1;33m,\u001b[0m\u001b[1;34m\"dsui5d4dvddd\"\u001b[0m\u001b[1;33m,\u001b[0m\u001b[1;34m\"74sd74dvvdv\"\u001b[0m\u001b[1;33m,\u001b[0m\u001b[1;34m\"43vdv4v35sd\"\u001b[0m\u001b[1;33m,\u001b[0m\u001b[1;34m\"sdsdvdv354ddv4\"\u001b[0m\u001b[1;33m,\u001b[0m\u001b[1;34m\"bksddsvjn55sdv\"\u001b[0m\u001b[1;33m,\u001b[0m\u001b[1;34m\"52ddsvsd\"\u001b[0m\u001b[1;33m,\u001b[0m\u001b[1;34m\"khnsdvds54dvc7\"\u001b[0m\u001b[1;33m]\u001b[0m\u001b[1;33m\u001b[0m\u001b[1;33m\u001b[0m\u001b[0m\n\u001b[1;32m----> 3\u001b[1;33m \u001b[0mht1\u001b[0m \u001b[1;33m=\u001b[0m \u001b[0mHashTable\u001b[0m\u001b[1;33m(\u001b[0m\u001b[0marr2\u001b[0m\u001b[1;33m)\u001b[0m\u001b[1;33m\u001b[0m\u001b[1;33m\u001b[0m\u001b[0m\n\u001b[0m\u001b[0;32m      4\u001b[0m \u001b[0mprint\u001b[0m\u001b[1;33m(\u001b[0m\u001b[1;34m\"\\nPrevious array:\"\u001b[0m\u001b[1;33m,\u001b[0m\u001b[0marr2\u001b[0m\u001b[1;33m)\u001b[0m\u001b[1;33m\u001b[0m\u001b[1;33m\u001b[0m\u001b[0m\n\u001b[0;32m      5\u001b[0m \u001b[0mprint\u001b[0m\u001b[1;33m(\u001b[0m\u001b[1;34m\"\\nHashtable:\"\u001b[0m\u001b[1;33m,\u001b[0m\u001b[0mht1\u001b[0m\u001b[1;33m.\u001b[0m\u001b[0mk\u001b[0m\u001b[1;33m)\u001b[0m\u001b[1;33m\u001b[0m\u001b[1;33m\u001b[0m\u001b[0m\n",
      "\u001b[1;31mNameError\u001b[0m: name 'HashTable' is not defined"
     ]
    }
   ],
   "source": [
    "print(\"\\n//=======Task 2 -- Hashing=======//\")\n",
    "arr2 = [\"ST1E89B8A32\",\"kdfd24sddc4d\",\"dsui5d4dvddd\",\"74sd74dvvdv\",\"43vdv4v35sd\",\"sdsdvdv354ddv4\",\"bksddsvjn55sdv\",\"52ddsvsd\",\"khnsdvds54dvc7\"]\n",
    "ht1 = HashTable(arr2)\n",
    "print(\"\\nPrevious array:\",arr2)\n",
    "print(\"\\nHashtable:\",ht1.k)"
   ]
  },
  {
   "cell_type": "code",
   "execution_count": null,
   "id": "aa4c36b6",
   "metadata": {},
   "outputs": [],
   "source": []
  },
  {
   "cell_type": "code",
   "execution_count": 21,
   "id": "556066de",
   "metadata": {},
   "outputs": [
    {
     "ename": "TypeError",
     "evalue": "'<' not supported between instances of 'int' and 'NoneType'",
     "output_type": "error",
     "traceback": [
      "\u001b[1;31m---------------------------------------------------------------------------\u001b[0m",
      "\u001b[1;31mTypeError\u001b[0m                                 Traceback (most recent call last)",
      "\u001b[1;32m<ipython-input-21-3c3382ac7082>\u001b[0m in \u001b[0;36m<module>\u001b[1;34m\u001b[0m\n\u001b[0;32m     15\u001b[0m \u001b[1;33m\u001b[0m\u001b[0m\n\u001b[0;32m     16\u001b[0m \u001b[1;33m\u001b[0m\u001b[0m\n\u001b[1;32m---> 17\u001b[1;33m \u001b[0maa\u001b[0m\u001b[1;33m(\u001b[0m\u001b[0ma\u001b[0m\u001b[1;33m,\u001b[0m \u001b[1;36m0\u001b[0m\u001b[1;33m,\u001b[0m \u001b[1;36m0\u001b[0m \u001b[1;33m,\u001b[0m\u001b[0ma\u001b[0m\u001b[1;33m[\u001b[0m\u001b[1;36m0\u001b[0m\u001b[1;33m]\u001b[0m\u001b[1;33m[\u001b[0m\u001b[1;36m0\u001b[0m\u001b[1;33m]\u001b[0m\u001b[1;33m)\u001b[0m\u001b[1;33m\u001b[0m\u001b[1;33m\u001b[0m\u001b[0m\n\u001b[0m",
      "\u001b[1;32m<ipython-input-21-3c3382ac7082>\u001b[0m in \u001b[0;36maa\u001b[1;34m(arr, ind1, ind2, mi)\u001b[0m\n\u001b[0;32m      5\u001b[0m         \u001b[1;32mreturn\u001b[0m \u001b[0mmi\u001b[0m\u001b[1;33m\u001b[0m\u001b[1;33m\u001b[0m\u001b[0m\n\u001b[0;32m      6\u001b[0m     \u001b[0mmi\u001b[0m \u001b[1;33m=\u001b[0m \u001b[0mouter\u001b[0m\u001b[1;33m(\u001b[0m\u001b[0marr\u001b[0m\u001b[1;33m,\u001b[0m\u001b[0mind1\u001b[0m\u001b[1;33m,\u001b[0m\u001b[0mind2\u001b[0m\u001b[1;33m,\u001b[0m\u001b[0mmi\u001b[0m\u001b[1;33m)\u001b[0m\u001b[1;33m\u001b[0m\u001b[1;33m\u001b[0m\u001b[0m\n\u001b[1;32m----> 7\u001b[1;33m     \u001b[0maa\u001b[0m\u001b[1;33m(\u001b[0m\u001b[0marr\u001b[0m\u001b[1;33m,\u001b[0m\u001b[0mind1\u001b[0m\u001b[1;33m+\u001b[0m\u001b[1;36m1\u001b[0m\u001b[1;33m,\u001b[0m\u001b[0mind2\u001b[0m\u001b[1;33m,\u001b[0m\u001b[0mmi\u001b[0m\u001b[1;33m)\u001b[0m\u001b[1;33m\u001b[0m\u001b[1;33m\u001b[0m\u001b[0m\n\u001b[0m\u001b[0;32m      8\u001b[0m \u001b[1;33m\u001b[0m\u001b[0m\n\u001b[0;32m      9\u001b[0m \u001b[1;32mdef\u001b[0m \u001b[0mouter\u001b[0m\u001b[1;33m(\u001b[0m\u001b[0marr\u001b[0m\u001b[1;33m,\u001b[0m\u001b[0mind1\u001b[0m\u001b[1;33m,\u001b[0m\u001b[0mind2\u001b[0m\u001b[1;33m,\u001b[0m\u001b[0mmi\u001b[0m\u001b[1;33m)\u001b[0m\u001b[1;33m:\u001b[0m\u001b[1;33m\u001b[0m\u001b[1;33m\u001b[0m\u001b[0m\n",
      "\u001b[1;32m<ipython-input-21-3c3382ac7082>\u001b[0m in \u001b[0;36maa\u001b[1;34m(arr, ind1, ind2, mi)\u001b[0m\n\u001b[0;32m      4\u001b[0m     \u001b[1;32mif\u001b[0m\u001b[1;33m(\u001b[0m\u001b[0mind1\u001b[0m\u001b[1;33m==\u001b[0m \u001b[1;33m(\u001b[0m\u001b[0mlen\u001b[0m\u001b[1;33m(\u001b[0m\u001b[0marr\u001b[0m\u001b[1;33m)\u001b[0m\u001b[1;33m-\u001b[0m\u001b[1;36m1\u001b[0m\u001b[1;33m)\u001b[0m\u001b[1;33m)\u001b[0m\u001b[1;33m:\u001b[0m\u001b[1;33m\u001b[0m\u001b[1;33m\u001b[0m\u001b[0m\n\u001b[0;32m      5\u001b[0m         \u001b[1;32mreturn\u001b[0m \u001b[0mmi\u001b[0m\u001b[1;33m\u001b[0m\u001b[1;33m\u001b[0m\u001b[0m\n\u001b[1;32m----> 6\u001b[1;33m     \u001b[0mmi\u001b[0m \u001b[1;33m=\u001b[0m \u001b[0mouter\u001b[0m\u001b[1;33m(\u001b[0m\u001b[0marr\u001b[0m\u001b[1;33m,\u001b[0m\u001b[0mind1\u001b[0m\u001b[1;33m,\u001b[0m\u001b[0mind2\u001b[0m\u001b[1;33m,\u001b[0m\u001b[0mmi\u001b[0m\u001b[1;33m)\u001b[0m\u001b[1;33m\u001b[0m\u001b[1;33m\u001b[0m\u001b[0m\n\u001b[0m\u001b[0;32m      7\u001b[0m     \u001b[0maa\u001b[0m\u001b[1;33m(\u001b[0m\u001b[0marr\u001b[0m\u001b[1;33m,\u001b[0m\u001b[0mind1\u001b[0m\u001b[1;33m+\u001b[0m\u001b[1;36m1\u001b[0m\u001b[1;33m,\u001b[0m\u001b[0mind2\u001b[0m\u001b[1;33m,\u001b[0m\u001b[0mmi\u001b[0m\u001b[1;33m)\u001b[0m\u001b[1;33m\u001b[0m\u001b[1;33m\u001b[0m\u001b[0m\n\u001b[0;32m      8\u001b[0m \u001b[1;33m\u001b[0m\u001b[0m\n",
      "\u001b[1;32m<ipython-input-21-3c3382ac7082>\u001b[0m in \u001b[0;36mouter\u001b[1;34m(arr, ind1, ind2, mi)\u001b[0m\n\u001b[0;32m     10\u001b[0m     \u001b[1;32mif\u001b[0m\u001b[1;33m(\u001b[0m\u001b[0mind2\u001b[0m\u001b[1;33m==\u001b[0m\u001b[1;33m(\u001b[0m\u001b[0mlen\u001b[0m\u001b[1;33m(\u001b[0m\u001b[0marr\u001b[0m\u001b[1;33m[\u001b[0m\u001b[0mind1\u001b[0m\u001b[1;33m]\u001b[0m\u001b[1;33m)\u001b[0m\u001b[1;33m-\u001b[0m\u001b[1;36m1\u001b[0m\u001b[1;33m)\u001b[0m\u001b[1;33m)\u001b[0m\u001b[1;33m:\u001b[0m\u001b[1;33m\u001b[0m\u001b[1;33m\u001b[0m\u001b[0m\n\u001b[0;32m     11\u001b[0m         \u001b[1;32mreturn\u001b[0m \u001b[0mmin\u001b[0m\u001b[1;33m\u001b[0m\u001b[1;33m\u001b[0m\u001b[0m\n\u001b[1;32m---> 12\u001b[1;33m     \u001b[1;32mif\u001b[0m\u001b[1;33m(\u001b[0m\u001b[0marr\u001b[0m\u001b[1;33m[\u001b[0m\u001b[0mind1\u001b[0m\u001b[1;33m]\u001b[0m\u001b[1;33m[\u001b[0m\u001b[0mind2\u001b[0m\u001b[1;33m]\u001b[0m\u001b[1;33m<\u001b[0m\u001b[0mmi\u001b[0m\u001b[1;33m)\u001b[0m\u001b[1;33m:\u001b[0m\u001b[1;33m\u001b[0m\u001b[1;33m\u001b[0m\u001b[0m\n\u001b[0m\u001b[0;32m     13\u001b[0m         \u001b[0mmi\u001b[0m\u001b[1;33m=\u001b[0m\u001b[0marr\u001b[0m\u001b[1;33m[\u001b[0m\u001b[0mind1\u001b[0m\u001b[1;33m]\u001b[0m\u001b[1;33m[\u001b[0m\u001b[0mind2\u001b[0m\u001b[1;33m]\u001b[0m\u001b[1;33m\u001b[0m\u001b[1;33m\u001b[0m\u001b[0m\n\u001b[0;32m     14\u001b[0m     \u001b[0mouter\u001b[0m\u001b[1;33m(\u001b[0m\u001b[0marr\u001b[0m\u001b[1;33m,\u001b[0m\u001b[0mind1\u001b[0m\u001b[1;33m,\u001b[0m\u001b[0mind2\u001b[0m\u001b[1;33m+\u001b[0m\u001b[1;36m1\u001b[0m\u001b[1;33m,\u001b[0m\u001b[0mmi\u001b[0m\u001b[1;33m)\u001b[0m\u001b[1;33m\u001b[0m\u001b[1;33m\u001b[0m\u001b[0m\n",
      "\u001b[1;31mTypeError\u001b[0m: '<' not supported between instances of 'int' and 'NoneType'"
     ]
    }
   ],
   "source": [
    "a = [[10,2,13],[4,15,16],[7,8,9]]\n",
    "\n",
    "def aa(arr,ind1,ind2,mi):\n",
    "    if(ind1== (len(arr)-1)):\n",
    "        return mi\n",
    "    mi = outer(arr,ind1,ind2,mi)\n",
    "    aa(arr,ind1+1,ind2,mi)\n",
    "\n",
    "def outer(arr,ind1,ind2,mi):\n",
    "    if(ind2==(len(arr[ind1])-1)):\n",
    "        return min\n",
    "    if(arr[ind1][ind2]<mi):\n",
    "        mi=arr[ind1][ind2]\n",
    "    outer(arr,ind1,ind2+1,mi)\n",
    "\n",
    "    \n",
    "aa(a, 0, 0 ,a[0][0])"
   ]
  },
  {
   "cell_type": "code",
   "execution_count": 5,
   "id": "4e51c56b",
   "metadata": {},
   "outputs": [
    {
     "name": "stdout",
     "output_type": "stream",
     "text": [
      "2\n"
     ]
    }
   ],
   "source": [
    "a = [[10,2,13],[4,15,16],[7,8,9]]\n",
    "mi = a[0][0]\n",
    "for i in range(len(a)):\n",
    "    \n",
    "    for j in range(len(a[i])):\n",
    "        if(a[i][j]<mi):\n",
    "            mi = a[i][j]\n",
    "\n",
    "print(mi)\n",
    "        "
   ]
  },
  {
   "cell_type": "code",
   "execution_count": null,
   "id": "4993e958",
   "metadata": {},
   "outputs": [],
   "source": []
  }
 ],
 "metadata": {
  "kernelspec": {
   "display_name": "Python 3",
   "language": "python",
   "name": "python3"
  },
  "language_info": {
   "codemirror_mode": {
    "name": "ipython",
    "version": 3
   },
   "file_extension": ".py",
   "mimetype": "text/x-python",
   "name": "python",
   "nbconvert_exporter": "python",
   "pygments_lexer": "ipython3",
   "version": "3.8.8"
  }
 },
 "nbformat": 4,
 "nbformat_minor": 5
}
