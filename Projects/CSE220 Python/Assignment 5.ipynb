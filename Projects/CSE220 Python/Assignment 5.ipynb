{
 "cells": [
  {
   "cell_type": "code",
   "execution_count": 49,
   "id": "5b25fa81",
   "metadata": {},
   "outputs": [
    {
     "name": "stdout",
     "output_type": "stream",
     "text": [
      "\n",
      "//=======Task 1.a -- Factorial of n=======//\n",
      "Factorial of 9 is: 362880\n",
      "Factorial of 20 is: 2432902008176640000\n",
      "\n",
      "//=======Task 1.b -- nth Fibonacci=======//\n",
      "I considered 1st is 0 and 2nd is 1\n",
      "5th Fibonacci number is: 3\n",
      "10th Fibonacci number is: 34\n",
      "\n",
      "//=======Task 1.c -- Print all elements of an Array=======//\n",
      "Initial array -> [10, 20, 30, 40, 50, 60]\n",
      "10\n",
      "20\n",
      "30\n",
      "40\n",
      "50\n",
      "60\n",
      "\n",
      "//=======Task 1.d -- Power of n=======//\n",
      "3 to the power 2 is: 9\n",
      "5 to the power 2 is: 25\n"
     ]
    }
   ],
   "source": [
    "# Task 1.a\n",
    "def findFacto(n):\n",
    "    if(n<0):\n",
    "        raise ValueError(\"No factorial for negetive number\")\n",
    "    if(n==0):\n",
    "        return 1\n",
    "    return n * findFacto(n-1)\n",
    "\n",
    "# Task 1.b\n",
    "def findFibo(n,f=0,s=1): # I considered 1st element 0 and second element 1\n",
    "    if(n<0):\n",
    "        raise ValueError()\n",
    "    if(n==1):\n",
    "        return f\n",
    "    if(n==2):\n",
    "        return s\n",
    "    temp = s\n",
    "    s=f+temp\n",
    "    f=temp\n",
    "    return findFibo(n-1,f,s)\n",
    "\n",
    "# Task 1.c\n",
    "def print_arr(arr,i=0):\n",
    "    if(len(arr)!=i):\n",
    "        print(arr[i])\n",
    "        return print_arr(arr,i+1)\n",
    "\n",
    "# Task 1.d\n",
    "def powerN(n,p):\n",
    "    if(p==1):\n",
    "        return n\n",
    "    return n * powerN(n,p-1)\n",
    "\n",
    "print(\"\\n//=======Task 1.a -- Factorial of n=======//\")\n",
    "print(\"Factorial of 9 is:\",findFacto(9))\n",
    "print(\"Factorial of 20 is:\",findFacto(20))\n",
    "\n",
    "print(\"\\n//=======Task 1.b -- nth Fibonacci=======//\")\n",
    "print(\"I considered 1st is 0 and 2nd is 1\")\n",
    "print(\"5th Fibonacci number is:\",findFibo(5))\n",
    "print(\"10th Fibonacci number is:\",findFibo(10))\n",
    "\n",
    "print(\"\\n//=======Task 1.c -- Print all elements of an Array=======//\")\n",
    "arr = [10,20,30,40,50,60]\n",
    "print(\"Initial array ->\",arr)\n",
    "print_arr(arr)\n",
    "print(\"\\n//=======Task 1.d -- Power of n=======//\")\n",
    "print(\"3 to the power 2 is:\",powerN(3,2))\n",
    "print(\"5 to the power 2 is:\",powerN(5,2))"
   ]
  },
  {
   "cell_type": "code",
   "execution_count": 51,
   "id": "ba7f8a83",
   "metadata": {},
   "outputs": [
    {
     "name": "stdout",
     "output_type": "stream",
     "text": [
      "\n",
      "//=======Task 2.a -- Decimal To Binary=======//\n",
      "Binary of 27 is: 11011\n",
      "Binary of 99 is: 1100011\n"
     ]
    }
   ],
   "source": [
    "# Task 2.a\n",
    "def decimalToBinary(d,b=''):\n",
    "    if(d==0):\n",
    "        if(b!=\"\"):\n",
    "            return b[::-1]\n",
    "        return 0\n",
    "    b+=str(d%2)\n",
    "    return decimalToBinary(d//2,b)\n",
    "\n",
    "print(\"\\n//=======Task 2.a -- Decimal To Binary=======//\")\n",
    "print(\"Binary of 27 is:\",decimalToBinary(27))\n",
    "print(\"Binary of 99 is:\",decimalToBinary(99))"
   ]
  },
  {
   "cell_type": "code",
   "execution_count": 3,
   "id": "2afc3260",
   "metadata": {},
   "outputs": [
    {
     "name": "stdout",
     "output_type": "stream",
     "text": [
      "\n",
      "//=======Task 2.b -- Sum of all numbers of a Non Dummy headed Singly Linked Linear List=======//\n",
      "150\n",
      "\n",
      "//=======Task 2.c -- Reverse Print a Non Dummy headed Singly Linked Linear List=======//\n",
      "50\n",
      "40\n",
      "30\n",
      "20\n",
      "10\n"
     ]
    }
   ],
   "source": [
    "# Non- Dummy headed Singly linear linked list\n",
    "class Node:\n",
    "    def __init__(self,v,n=None):\n",
    "        self.value = v\n",
    "        self.next = n\n",
    "class LL:\n",
    "    head = None\n",
    "    \n",
    "    def __init__(self,itr):\n",
    "        \n",
    "        for i in itr:\n",
    "            nN = Node(i)\n",
    "            if(self.head is None):\n",
    "                self.head = nN\n",
    "                fst = self.head\n",
    "            else:\n",
    "                fst.next = nN\n",
    "                fst = nN\n",
    "a = [10,20,30,40,50]\n",
    "x = LL(a)\n",
    "\n",
    "# Task 2.b\n",
    "def SumofLLItems(head):\n",
    "    if(head is None):\n",
    "        return 0\n",
    "    return head.value + SumofLLItems(head.next)\n",
    "\n",
    "print(\"\\n//=======Task 2.b -- Sum of all numbers of a Non Dummy headed Singly Linked Linear List=======//\")\n",
    "print(SumofLLItems(x.head))\n",
    "\n",
    "# Task 2.c\n",
    "def reverse_print(head):\n",
    "    if(head.next is None):\n",
    "        print(head.value)\n",
    "        return\n",
    "    reverse_print(head.next)\n",
    "    print(head.value)\n",
    "\n",
    "print(\"\\n//=======Task 2.c -- Reverse Print a Non Dummy headed Singly Linked Linear List=======//\")\n",
    "reverse_print(x.head)"
   ]
  },
  {
   "cell_type": "code",
   "execution_count": 4,
   "id": "2b9619ae",
   "metadata": {},
   "outputs": [
    {
     "name": "stdout",
     "output_type": "stream",
     "text": [
      "\n",
      "//=======Task 3 -- Calculate cards needed to build House of Cards=======//\n",
      "For height 1 we need: 8 cards\n",
      "For height 2 we need: 13 cards\n",
      "For height 0 we need: 0 cards\n",
      "For height 5 we need: 28 cards\n"
     ]
    }
   ],
   "source": [
    "\n",
    "# Task 3\n",
    "def hocBuilder(height):\n",
    "    if(height==0):\n",
    "        return 0\n",
    "    if(height == 1):\n",
    "        return 8\n",
    "    return 5 + hocBuilder(height-1)\n",
    "\n",
    "print(\"\\n//=======Task 3 -- Calculate cards needed to build House of Cards=======//\")\n",
    "print(\"For height 1 we need:\",hocBuilder(1),\"cards\")\n",
    "print(\"For height 2 we need:\",hocBuilder(2),\"cards\")\n",
    "print(\"For height 0 we need:\",hocBuilder(0),\"cards\")\n",
    "print(\"For height 5 we need:\",hocBuilder(5),\"cards\")"
   ]
  },
  {
   "cell_type": "code",
   "execution_count": 44,
   "id": "6c86c288",
   "metadata": {},
   "outputs": [
    {
     "name": "stdout",
     "output_type": "stream",
     "text": [
      "\n",
      "//=======Task 4.a -- Print the following pattern for the given input=======//\n",
      "1 \n",
      "1 2 \n",
      "1 2 3 \n",
      "1 2 3 4 \n",
      "1 2 3 4 5 \n",
      "\n",
      "//=======Task 4.b -- Print the following pattern for the given input=======//\n",
      "        1 \n",
      "      1 2 \n",
      "    1 2 3 \n",
      "  1 2 3 4 \n",
      "1 2 3 4 5 \n"
     ]
    }
   ],
   "source": [
    "#Task 4.a\n",
    "def pattern(n):\n",
    "    if(n==0):\n",
    "        return\n",
    "    pattern(n-1)\n",
    "    row(n)\n",
    "    print()\n",
    "def row(n):\n",
    "    if(n==0):\n",
    "        return\n",
    "    \n",
    "    row(n-1)\n",
    "    print(n,end=\" \")\n",
    "    \n",
    "print(\"\\n//=======Task 4.a -- Print the following pattern for the given input=======//\")\n",
    "pattern(5)\n",
    "\n",
    "# Task 4.b\n",
    "def patternTwo(n,num=1):\n",
    "    if(n==0):\n",
    "        return\n",
    "    col_sp(n-1)\n",
    "    col_num(num)\n",
    "    print()\n",
    "    patternTwo(n-1,num+1)\n",
    "def col_num(n):\n",
    "    if(n==0):\n",
    "        return\n",
    "    col_num(n-1)\n",
    "    print(n,end=\" \")\n",
    "def col_sp(n):\n",
    "    if(n==0):\n",
    "        return\n",
    "    col_sp(n-1)\n",
    "    print(\" \",end=\" \")\n",
    "    \n",
    "print(\"\\n//=======Task 4.b -- Print the following pattern for the given input=======//\")\n",
    "patternTwo(5)"
   ]
  },
  {
   "cell_type": "code",
   "execution_count": 41,
   "id": "24b8d336",
   "metadata": {},
   "outputs": [
    {
     "name": "stdout",
     "output_type": "stream",
     "text": [
      "\n",
      "//=======Task 5 -- Calculate Profit=======//\n",
      "1. Investment: 25000; Profit: 0\n",
      "2. Investment: 100000; Profit: 3375.0\n",
      "3. Investment: 250000; Profit: 15375.0\n",
      "4. Investment: 350000; Profit: 23375.0\n"
     ]
    }
   ],
   "source": [
    "# Task 5\n",
    "class FinalQ: \n",
    "    def print(self,array,idx): \n",
    "        if(idx<len(array)): \n",
    "            profit = self.calcProfit(array[idx])\n",
    "            print(\"{}. Investment: {}; Profit: {}\".format(idx+1,array[idx],profit))\n",
    "            self.print(array,idx+1)\n",
    "    def calcProfit(self,investment):\n",
    "        if(investment<=25000):\n",
    "            return 0\n",
    "        elif(investment<=100000):\n",
    "            investment = investment-25000\n",
    "            return investment/(1/0.045)\n",
    "        investment = investment-100000\n",
    "        return (investment/(1/0.08)) + self.calcProfit(100000)\n",
    "        \n",
    "print(\"\\n//=======Task 5 -- Calculate Profit=======//\")\n",
    "array=[25000,100000,250000,350000] \n",
    "f = FinalQ() \n",
    "f.print(array,0)"
   ]
  },
  {
   "cell_type": "code",
   "execution_count": null,
   "id": "577175a2",
   "metadata": {},
   "outputs": [],
   "source": []
  }
 ],
 "metadata": {
  "kernelspec": {
   "display_name": "Python 3",
   "language": "python",
   "name": "python3"
  },
  "language_info": {
   "codemirror_mode": {
    "name": "ipython",
    "version": 3
   },
   "file_extension": ".py",
   "mimetype": "text/x-python",
   "name": "python",
   "nbconvert_exporter": "python",
   "pygments_lexer": "ipython3",
   "version": "3.8.8"
  }
 },
 "nbformat": 4,
 "nbformat_minor": 5
}
