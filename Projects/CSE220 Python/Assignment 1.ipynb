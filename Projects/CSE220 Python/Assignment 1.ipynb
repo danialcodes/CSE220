{
 "cells": [
  {
   "cell_type": "code",
   "execution_count": 2,
   "id": "655e3d01",
   "metadata": {},
   "outputs": [
    {
     "name": "stdout",
     "output_type": "stream",
     "text": [
      "[40, 50, 60, 0, 0, 0]\n"
     ]
    }
   ],
   "source": [
    "#Linear Array\n",
    "#1\n",
    "def shiftLeft(source, k):\n",
    "    for i in range(len(source)):\n",
    "        if(i>=len(source)-3):\n",
    "            source[i] = 0\n",
    "        else:\n",
    "            source[i] = source[i+k]\n",
    "source=[10,20,30,40,50,60]\n",
    "shiftLeft(source,3)\n",
    "print(source)"
   ]
  },
  {
   "cell_type": "code",
   "execution_count": 11,
   "id": "92159f5a",
   "metadata": {},
   "outputs": [
    {
     "name": "stdout",
     "output_type": "stream",
     "text": [
      "[40, 50, 60, 10, 20, 30]\n"
     ]
    }
   ],
   "source": [
    "#Linear Array\n",
    "#2\n",
    "def rotateLeft( source, k):\n",
    "    new_arr = [0] * len(source)\n",
    "    src_index = k\n",
    "    for i in range(len(source)):\n",
    "        new_arr[i] = source[src_index]\n",
    "        src_index = (src_index+1)%(len(source))\n",
    "    return new_arr\n",
    "source=[10,20,30,40,50,60]\n",
    "rotated_array = rotateLeft(source,3)\n",
    "print(rotated_array)"
   ]
  },
  {
   "cell_type": "code",
   "execution_count": 7,
   "id": "4977ec99",
   "metadata": {},
   "outputs": [
    {
     "name": "stdout",
     "output_type": "stream",
     "text": [
      "[10, 20, 40, 50, 0, 0, 0]\n"
     ]
    }
   ],
   "source": [
    "#Linear Array\n",
    "#3\n",
    "def remove( source, size, idx):\n",
    "    for i in range(idx+1,size):\n",
    "        source[i-1] = source[i]\n",
    "    source[size-1] = 0\n",
    "    \n",
    "source=[10,20,30,40,50,0,0]\n",
    "remove(source,5,2)\n",
    "print(source)"
   ]
  },
  {
   "cell_type": "code",
   "execution_count": 16,
   "id": "28575e42",
   "metadata": {},
   "outputs": [
    {
     "name": "stdout",
     "output_type": "stream",
     "text": [
      "[10, 30, 50, 0, 0, 0, 0, 0, 0]\n"
     ]
    }
   ],
   "source": [
    "#Linear Array\n",
    "#4\n",
    "def removeAll( source, size, element):\n",
    "    new_arr = [0]*len(source)\n",
    "    nw_index = 0\n",
    "    for i in range(size):\n",
    "        if source[i]!=2:\n",
    "            new_arr[nw_index]= source[i]\n",
    "            nw_index+=1\n",
    "    return new_arr\n",
    "source=[10,2,30,2,50,2,2,0,0]\n",
    "source = removeAll(source,7,2)\n",
    "print(source)"
   ]
  },
  {
   "cell_type": "code",
   "execution_count": 4,
   "id": "d93c566b",
   "metadata": {},
   "outputs": [
    {
     "name": "stdout",
     "output_type": "stream",
     "text": [
      "true\n"
     ]
    }
   ],
   "source": [
    "#Linear Array\n",
    "#5\n",
    "def check_balance(source):\n",
    "    first = 0\n",
    "    last = 0\n",
    "    check = 'false'\n",
    "    for i in range(len(source)):\n",
    "        j = len(source)-i\n",
    "        for fst in range(i):\n",
    "            first+=source[fst]\n",
    "        for lst in range(i,len(source)):\n",
    "            last+=source[lst]\n",
    "        if(first==last):\n",
    "            check = 'true'\n",
    "            break\n",
    "        first = 0\n",
    "        last = 0\n",
    "    print(check)\n",
    "        \n",
    "    \n",
    "source =  [1,1,1,1]\n",
    "check_balance(source)"
   ]
  },
  {
   "cell_type": "code",
   "execution_count": 54,
   "id": "173a98e9",
   "metadata": {},
   "outputs": [
    {
     "name": "stdout",
     "output_type": "stream",
     "text": [
      "[0, 0, 0, 1, 0, 0, 2, 1, 0, 3, 2, 1, 4, 3, 2, 1]\n"
     ]
    }
   ],
   "source": [
    "#Linear Array\n",
    "#6\n",
    "def make_array(n):\n",
    "    array = [0]*n*n\n",
    "    indx = n*n-1\n",
    "    for i in range(n,0,-1):\n",
    "        for j in range(1,i+1):\n",
    "            array[indx] = j\n",
    "            indx-=1\n",
    "#             print(\"i =\",i,\"j =\",j)\n",
    "        indx-=(n-i)\n",
    "    return array\n",
    "array = make_array(4)\n",
    "print(array)"
   ]
  },
  {
   "cell_type": "code",
   "execution_count": 79,
   "id": "be6cd30c",
   "metadata": {},
   "outputs": [
    {
     "name": "stdout",
     "output_type": "stream",
     "text": [
      "6\n"
     ]
    }
   ],
   "source": [
    "#Linear Array\n",
    "#7\n",
    "def count_max_bunch(array):\n",
    "    c_max = 0\n",
    "    temp_max = 0\n",
    "    for i in range(len(array)):\n",
    "        if(i==0):\n",
    "            previous = array[i]\n",
    "            c_max = 1\n",
    "        elif (array[i] == previous):\n",
    "            c_max+=1\n",
    "        else:\n",
    "            if(c_max>temp_max):\n",
    "                temp_max = c_max\n",
    "            c_max = 1\n",
    "            previous = array[i]\n",
    "    if(temp_max>c_max):\n",
    "        return temp_max\n",
    "    return c_max\n",
    "array = [1,1,1,1, 2,2,2,2,2, 2, 3, 4, 4, 4]\n",
    "print(count_max_bunch(array))"
   ]
  },
  {
   "cell_type": "code",
   "execution_count": 126,
   "id": "9b2eafe1",
   "metadata": {},
   "outputs": [
    {
     "name": "stdout",
     "output_type": "stream",
     "text": [
      "True\n"
     ]
    }
   ],
   "source": [
    "#Linear Array\n",
    "#8\n",
    "def check_repetition(array):\n",
    "    new_array = [0]*len(array)*2\n",
    "    nw_indx = 0\n",
    "    size = 0\n",
    "    for i in range(len(array)):\n",
    "        is_present = False\n",
    "        \n",
    "        j = 0\n",
    "        while(j<len(new_array)):\n",
    "            if(new_array[j] == array[i]):\n",
    "                is_present = True\n",
    "                indx = j\n",
    "                j=len(new_array)\n",
    "            j+=2\n",
    "            \n",
    "        if(is_present):\n",
    "            new_array[indx+1]+=1\n",
    "            \n",
    "        else:\n",
    "            new_array[nw_indx] = array[i]\n",
    "            new_array[nw_indx+1] = 1\n",
    "            nw_indx+=2\n",
    "            size+=1\n",
    "    r = [0]*size\n",
    "    a = 0\n",
    "    for i in range(1,size*2,2):\n",
    "        if(new_array[i]>1):\n",
    "            r[a] = new_array[i]\n",
    "            a+=1\n",
    "    for i in range(a):\n",
    "        for j in range(i+1,a):\n",
    "            if(r[i]==r[j]):\n",
    "                return True\n",
    "    return False\n",
    "array = [4,5,6,6,4,3,6,4]\n",
    "print(check_repetition(array))"
   ]
  },
  {
   "cell_type": "code",
   "execution_count": 136,
   "id": "37e8b24d",
   "metadata": {},
   "outputs": [
    {
     "name": "stdout",
     "output_type": "stream",
     "text": [
      "False\n"
     ]
    }
   ],
   "source": [
    "#Circular Array\n",
    "#1\n",
    "def check_palindrome(cir,size,start):\n",
    "    lst_index = (start+size-1)%len(cir)\n",
    "    isPalindrome = True\n",
    "    for i in range(size):\n",
    "        if(cir[start]!=cir[lst_index]):\n",
    "            isPalindrome = False\n",
    "            return isPalindrome\n",
    "        start = (start+1)%(len(cir))\n",
    "        lst_index-=1\n",
    "        if(lst_index<0):\n",
    "            lst_index = len(cir)-1\n",
    "    return isPalindrome\n",
    "source = [10,20,0,0,0,10,20,30] \n",
    "print(check_palindrome(source,5,5))"
   ]
  },
  {
   "cell_type": "code",
   "execution_count": 149,
   "id": "1156dd56",
   "metadata": {},
   "outputs": [
    {
     "name": "stdout",
     "output_type": "stream",
     "text": [
      "[10, 20, 40]\n"
     ]
    }
   ],
   "source": [
    "#Circular Array\n",
    "#2\n",
    "def return_linear(cir1,start_1,size_1,cir2,start_2,size_2):\n",
    "    temp_start_2 = start_2\n",
    "    matched = [0]*size_1\n",
    "    match_count = 0\n",
    "    for i in range(size_1):\n",
    "        for j in range(size_2):\n",
    "            if (cir1[start_1] == cir2[start_2]):\n",
    "                matched[match_count] = cir1[start_1]\n",
    "                match_count+=1\n",
    "            start_2 = (start_2+1)%len(cir2)\n",
    "        start_1 = (start_1+1)%len(cir1)\n",
    "        start_2 = temp_start_2\n",
    "    nw_arr = [0]*match_count\n",
    "    for i in range(match_count):\n",
    "        nw_arr[i]=matched[i]\n",
    "    return nw_arr\n",
    "cir1 = [40,50,0,0,0,10,20,30]\n",
    "cir2 = [10,20,5,0,0,0,0,0,5,40,15,25]\n",
    "common_linear = return_linear(cir1,5,5,cir2,8,7)\n",
    "print(common_linear)"
   ]
  },
  {
   "cell_type": "code",
   "execution_count": 211,
   "id": "c9b6ae27",
   "metadata": {},
   "outputs": [
    {
     "name": "stdout",
     "output_type": "stream",
     "text": [
      "Shohardo Robin Luffy Kilua Danial Nishat \n",
      "Kilua Danial Nishat Robin Luffy \n",
      "Robin Luffy Danial Nishat \n",
      "Nishat Robin Danial \n",
      "Danial Robin \n",
      "Winner is Robin !!!!\n"
     ]
    }
   ],
   "source": [
    "#Circular Array\n",
    "#3\n",
    "import random\n",
    "    \n",
    "def play_musical_chair(players):\n",
    "    start = 0\n",
    "    size = 7\n",
    "    remaning_players = [0]*size\n",
    "    \n",
    "    while (size>1):\n",
    "#         print(\"start\",players)\n",
    "        temp = players[size-1]\n",
    "        for i in range(size-1,0,-1):\n",
    "            players[i] = players[i-1]\n",
    "        players[0] = temp\n",
    "#         print(\"changed\",players)\n",
    "        if(random.randint(0, 3)==1):\n",
    "            indx = size//2\n",
    "#             print(\"Removing\",players[indx])\n",
    "            \n",
    "            for i in range(indx,size-1):\n",
    "                players[i] = players[i+1]\n",
    "            players[size-1] = 0\n",
    "#             print(\"Removed\",players)\n",
    "            size-=1\n",
    "            if(size==1):\n",
    "                print(\"Winner is\",players[0],\"!!!!\")\n",
    "            else:\n",
    "                for i in range(size):\n",
    "                    print(players[i],end=\" \")\n",
    "                print()\n",
    "            \n",
    "        start+=1\n",
    "#         print(\"last\",players)\n",
    "    \n",
    "\n",
    "players = ['Danial','Nishat','Shohardo','Robin','Luffy','Naruto','Kilua']\n",
    "play_musical_chair(players)"
   ]
  },
  {
   "cell_type": "code",
   "execution_count": 160,
   "id": "be916346",
   "metadata": {},
   "outputs": [
    {
     "data": {
      "text/plain": [
       "7"
      ]
     },
     "execution_count": 160,
     "metadata": {},
     "output_type": "execute_result"
    }
   ],
   "source": []
  },
  {
   "cell_type": "code",
   "execution_count": 168,
   "id": "c69664ae",
   "metadata": {},
   "outputs": [
    {
     "name": "stdout",
     "output_type": "stream",
     "text": [
      "[1, 2, 3, 4] [1, 2, 0, 4]\n"
     ]
    }
   ],
   "source": [
    "a = [1,2,3,4]\n",
    "b = a.copy()\n",
    "b[2] = 0\n",
    "print(a,b)"
   ]
  },
  {
   "cell_type": "code",
   "execution_count": 6,
   "id": "1ff23904",
   "metadata": {},
   "outputs": [
    {
     "name": "stdout",
     "output_type": "stream",
     "text": [
      "Bangladesh\n"
     ]
    }
   ],
   "source": [
    "arr = [\"Canada\",\"Spain\",\"Bangladesh\",\"Germany\"]\n",
    "arr1 = [arr[0],arr[2],arr[1],arr[3]]\n",
    "print(arr1[1])"
   ]
  },
  {
   "cell_type": "code",
   "execution_count": 7,
   "id": "22323a46",
   "metadata": {},
   "outputs": [
    {
     "data": {
      "text/plain": [
       "4"
      ]
     },
     "execution_count": 7,
     "metadata": {},
     "output_type": "execute_result"
    }
   ],
   "source": [
    "4%5"
   ]
  },
  {
   "cell_type": "code",
   "execution_count": null,
   "id": "52731ace",
   "metadata": {},
   "outputs": [],
   "source": []
  }
 ],
 "metadata": {
  "kernelspec": {
   "display_name": "Python 3",
   "language": "python",
   "name": "python3"
  },
  "language_info": {
   "codemirror_mode": {
    "name": "ipython",
    "version": 3
   },
   "file_extension": ".py",
   "mimetype": "text/x-python",
   "name": "python",
   "nbconvert_exporter": "python",
   "pygments_lexer": "ipython3",
   "version": "3.8.8"
  }
 },
 "nbformat": 4,
 "nbformat_minor": 5
}
