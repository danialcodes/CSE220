{
 "cells": [
  {
   "cell_type": "code",
   "execution_count": 63,
   "id": "54f5ce1c",
   "metadata": {},
   "outputs": [],
   "source": [
    "class HashTable:\n",
    "    def __init__(self,a):\n",
    "        self.k = [0]*9\n",
    "        for i in a:\n",
    "            h = self.cal_hash(i)\n",
    "            if(self.k[h]):\n",
    "                while(self.k[h]):\n",
    "                    h=(h+1)%9\n",
    "                self.k[h]=i\n",
    "            else:\n",
    "                self.k[h]=i\n",
    "            \n",
    "    @staticmethod\n",
    "    def cal_hash(val):\n",
    "        v = \"AEIOU\"\n",
    "        c_count = 0\n",
    "        v_sum = 0\n",
    "        for i in val:\n",
    "            if(i>=\"0\" and i<=\"9\"):\n",
    "                v_sum+=int(i)\n",
    "            elif( i not in v):\n",
    "                c_count+=1\n",
    "        return (c_count*24+v_sum)%9\n",
    "    def search(self,val):\n",
    "        h = self.cal_hash(val)\n",
    "        if(self.k[h]==val):\n",
    "            return True\n",
    "        return False"
   ]
  },
  {
   "cell_type": "code",
   "execution_count": 64,
   "id": "c7ee8e4a",
   "metadata": {},
   "outputs": [],
   "source": [
    "a = [\"ST1E89B8A32\",\"kdfd24sddc4d\",\"dsui5d4dvddd\",\"74sd74dvvdv\",\"43vdv4v35sd\",\"sdsdvdv354ddv4\",\"bksddsvjn55sdv\",\"52ddsvsd\",\"khnsdvds54dvc7\"]\n",
    "a1 = HashTable(a)"
   ]
  },
  {
   "cell_type": "code",
   "execution_count": 65,
   "id": "a4c4d2a9",
   "metadata": {},
   "outputs": [
    {
     "name": "stdout",
     "output_type": "stream",
     "text": [
      "['khnsdvds54dvc7', 'kdfd24sddc4d', '74sd74dvvdv', '43vdv4v35sd', 'ST1E89B8A32', 'sdsdvdv354ddv4', 'dsui5d4dvddd', 'bksddsvjn55sdv', '52ddsvsd']\n"
     ]
    }
   ],
   "source": [
    "print(a1.k)"
   ]
  },
  {
   "cell_type": "code",
   "execution_count": 67,
   "id": "8fc898a4",
   "metadata": {},
   "outputs": [
    {
     "data": {
      "text/plain": [
       "True"
      ]
     },
     "execution_count": 67,
     "metadata": {},
     "output_type": "execute_result"
    }
   ],
   "source": [
    "a1.search(\"ST1E89B8A32\")"
   ]
  },
  {
   "cell_type": "code",
   "execution_count": 1,
   "id": "b1b0861c",
   "metadata": {},
   "outputs": [
    {
     "name": "stdout",
     "output_type": "stream",
     "text": [
      "-1621073628326048033\n"
     ]
    }
   ],
   "source": [
    "print(hash(\"4525assd\"))"
   ]
  },
  {
   "cell_type": "code",
   "execution_count": 4,
   "id": "4a318e82",
   "metadata": {},
   "outputs": [
    {
     "ename": "TypeError",
     "evalue": "hash() takes exactly one argument (2 given)",
     "output_type": "error",
     "traceback": [
      "\u001b[1;31m---------------------------------------------------------------------------\u001b[0m",
      "\u001b[1;31mTypeError\u001b[0m                                 Traceback (most recent call last)",
      "\u001b[1;32m<ipython-input-4-c89e5bdfa336>\u001b[0m in \u001b[0;36m<module>\u001b[1;34m\u001b[0m\n\u001b[1;32m----> 1\u001b[1;33m \u001b[0mprint\u001b[0m\u001b[1;33m(\u001b[0m\u001b[0mhash\u001b[0m\u001b[1;33m(\u001b[0m\u001b[1;34m\"fdvfd\"\u001b[0m\u001b[1;33m,\u001b[0m\u001b[1;34m\"sha256\"\u001b[0m\u001b[1;33m)\u001b[0m\u001b[1;33m)\u001b[0m\u001b[1;33m\u001b[0m\u001b[1;33m\u001b[0m\u001b[0m\n\u001b[0m",
      "\u001b[1;31mTypeError\u001b[0m: hash() takes exactly one argument (2 given)"
     ]
    }
   ],
   "source": [
    "print(hash(\"fdvfd\",\"sha256\"))"
   ]
  },
  {
   "cell_type": "code",
   "execution_count": 3,
   "id": "4ebad0fd",
   "metadata": {},
   "outputs": [
    {
     "name": "stdout",
     "output_type": "stream",
     "text": [
      "-1621073628326048033\n"
     ]
    }
   ],
   "source": [
    "print(hash(\"4525assd\"))"
   ]
  },
  {
   "cell_type": "code",
   "execution_count": null,
   "id": "0c0d5067",
   "metadata": {},
   "outputs": [],
   "source": []
  }
 ],
 "metadata": {
  "kernelspec": {
   "display_name": "Python 3",
   "language": "python",
   "name": "python3"
  },
  "language_info": {
   "codemirror_mode": {
    "name": "ipython",
    "version": 3
   },
   "file_extension": ".py",
   "mimetype": "text/x-python",
   "name": "python",
   "nbconvert_exporter": "python",
   "pygments_lexer": "ipython3",
   "version": "3.8.8"
  }
 },
 "nbformat": 4,
 "nbformat_minor": 5
}
