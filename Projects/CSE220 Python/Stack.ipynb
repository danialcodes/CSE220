{
 "cells": [
  {
   "cell_type": "code",
   "execution_count": 1,
   "id": "c01a7d45",
   "metadata": {},
   "outputs": [],
   "source": [
    "# Stack Implementation"
   ]
  },
  {
   "cell_type": "code",
   "execution_count": 10,
   "id": "f073b032",
   "metadata": {
    "scrolled": true
   },
   "outputs": [
    {
     "data": {
      "text/plain": [
       "7"
      ]
     },
     "execution_count": 10,
     "metadata": {},
     "output_type": "execute_result"
    }
   ],
   "source": [
    "# Array Stack Implementation\n",
    "class ArrayStack:\n",
    "    def __init__(self,length):\n",
    "        self.data = [0]*length\n",
    "        self.size = 0\n",
    "    def push(self,element):\n",
    "        if(self.size==len(self.data)):\n",
    "            print(\"Stack Overflow\")\n",
    "            return\n",
    "        self.data[self.size] = element\n",
    "        self.size+=1\n",
    "    def pop(self):\n",
    "        if(self.size ==0):\n",
    "            print(\"Stack Under Flow\")\n",
    "            return None\n",
    "        popped_data = self.data[self.size-1]\n",
    "        self.data[self.size-1]=0\n",
    "        self.size-=1\n",
    "        return popped_data\n",
    "    def peek(self):\n",
    "        if(self.size==0):\n",
    "            print(\"Stack Under Flaw\")\n",
    "            return None\n",
    "        return self.data[self.size-1]\n",
    "        \n",
    "stack_array = ArrayStack(10)\n",
    "stack_array.push(5)\n",
    "stack_array.push(7)\n",
    "stack_array.pop()\n",
    "stack_array.pop()\n",
    "stack_array.push(7)\n",
    "stack_array.peek()"
   ]
  },
  {
   "cell_type": "code",
   "execution_count": 11,
   "id": "473b8510",
   "metadata": {},
   "outputs": [],
   "source": [
    "# Linked List Stack Implementation"
   ]
  },
  {
   "cell_type": "code",
   "execution_count": 49,
   "id": "23712925",
   "metadata": {},
   "outputs": [
    {
     "name": "stdout",
     "output_type": "stream",
     "text": [
      "50\n",
      "Stack Underflow\n",
      "Stack Underflow\n",
      "Stack Underflow\n"
     ]
    }
   ],
   "source": [
    "class Node:\n",
    "    def __init__(self,e,n):\n",
    "        self.data = e\n",
    "        self.next = n\n",
    "class List_Stack:\n",
    "    def __init__(self):\n",
    "        self.head = None\n",
    "    def push(self,e):\n",
    "        newStackItem = Node(e,None)\n",
    "        if(self.head is None):\n",
    "            self.head = newStackItem\n",
    "        else:\n",
    "            newStackItem.next = self.head\n",
    "            self.head = newStackItem\n",
    "    def pop(self):\n",
    "        if(self.head is None):\n",
    "            print(\"Stack Underflow\")\n",
    "            return None\n",
    "        oldHead = self.head\n",
    "        self.head = self.head.next\n",
    "        oldData = oldHead.data\n",
    "        oldHead.data = oldHead.next = None\n",
    "        return oldData\n",
    "    def peek(self):\n",
    "        if(self.head is None):\n",
    "            print(\"Stack Underflow\")\n",
    "            return\n",
    "        return self.head.data\n",
    "    \n",
    "    \n",
    "stack_list = List_Stack()\n",
    "stack_list.push(50)\n",
    "\n",
    "print(stack_list.pop())\n",
    "stack_list.pop()\n",
    "stack_list.pop()\n",
    "stack_list.peek()"
   ]
  },
  {
   "cell_type": "code",
   "execution_count": 59,
   "id": "d9aa15ee",
   "metadata": {},
   "outputs": [
    {
     "name": "stdout",
     "output_type": "stream",
     "text": [
      "Enter an Equation: (a+b))\n",
      "Stack Underflow\n",
      "Error on Parenthesis Balancing\n"
     ]
    }
   ],
   "source": [
    "# parenthesis Balancing\n",
    "\n",
    "pbStack = List_Stack()\n",
    "quation = input(\"Enter an Equation: \")\n",
    "openPS = \"({[\"\n",
    "closedPS = \")}]\"\n",
    "error = 0\n",
    "for ch in quation:\n",
    "    if(ch in openPS):\n",
    "        pbStack.push(ch)\n",
    "    elif (ch in closedPS):\n",
    "        poppedItem= pbStack.pop()\n",
    "        if(poppedItem==\"(\"):\n",
    "            if(ch!=\")\"):\n",
    "                error+=1\n",
    "                print(\"Error on Parenthesis Balancing\")\n",
    "        elif(poppedItem==\"{\"):\n",
    "            if(ch!=\"}\"):\n",
    "                error+=1\n",
    "                print(\"Error on Parenthesis Balancing\")\n",
    "        elif(poppedItem==\"[\"):\n",
    "            if(ch!=\"]\"):\n",
    "                error+=1\n",
    "                print(\"Error on Parenthesis Balancing\")\n",
    "        else:\n",
    "            error+=1\n",
    "\n",
    "if(pbStack.head is None and error==0):\n",
    "    print(\"Perfectly Balanced\")\n",
    "else:\n",
    "    print(\"Error on Parenthesis Balancing\")\n",
    "\n",
    "        "
   ]
  },
  {
   "cell_type": "code",
   "execution_count": 1,
   "id": "8569bfca",
   "metadata": {},
   "outputs": [],
   "source": [
    "#infix to Postfix"
   ]
  },
  {
   "cell_type": "code",
   "execution_count": null,
   "id": "ed8b2a34",
   "metadata": {},
   "outputs": [],
   "source": [
    "# Postfix to infix"
   ]
  }
 ],
 "metadata": {
  "kernelspec": {
   "display_name": "Python 3",
   "language": "python",
   "name": "python3"
  },
  "language_info": {
   "codemirror_mode": {
    "name": "ipython",
    "version": 3
   },
   "file_extension": ".py",
   "mimetype": "text/x-python",
   "name": "python",
   "nbconvert_exporter": "python",
   "pygments_lexer": "ipython3",
   "version": "3.8.8"
  }
 },
 "nbformat": 4,
 "nbformat_minor": 5
}
