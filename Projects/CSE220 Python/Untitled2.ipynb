{
 "cells": [
  {
   "cell_type": "code",
   "execution_count": 1,
   "id": "5105ace4",
   "metadata": {},
   "outputs": [
    {
     "name": "stdout",
     "output_type": "stream",
     "text": [
      "8\n"
     ]
    }
   ],
   "source": [
    "def run(start,end):\n",
    "\n",
    "    if (start>=end):\n",
    "\n",
    "        return 0\n",
    "\n",
    "    else:\n",
    "\n",
    "        return 1 + run(start+2,end) + 3\n",
    "print(run(1,5))"
   ]
  },
  {
   "cell_type": "code",
   "execution_count": 4,
   "id": "2438e876",
   "metadata": {},
   "outputs": [
    {
     "name": "stdout",
     "output_type": "stream",
     "text": [
      "*\n",
      "17\n",
      "*\n",
      "Stop\n",
      "None\n"
     ]
    }
   ],
   "source": [
    "def func(x):\n",
    "    print(\"*\")\n",
    "    if x==0 or x==1:\n",
    "\n",
    "        print(\"Stop\")\n",
    "\n",
    "    else:\n",
    "        print(x)\n",
    "        return func(x%2)\n",
    "\n",
    "\n",
    "print(func(17))"
   ]
  },
  {
   "cell_type": "code",
   "execution_count": 7,
   "id": "7c3961ad",
   "metadata": {},
   "outputs": [
    {
     "name": "stdout",
     "output_type": "stream",
     "text": [
      "7654reach to the base!\n"
     ]
    }
   ],
   "source": [
    "def f(x):\n",
    "    if(x==1 or x==3):\n",
    "        print(\"reach to the base!\")\n",
    "        return\n",
    "    print(x,end=\"\")\n",
    "    f(x-1) \n",
    "f(7)"
   ]
  },
  {
   "cell_type": "code",
   "execution_count": 9,
   "id": "31292b55",
   "metadata": {},
   "outputs": [
    {
     "name": "stdout",
     "output_type": "stream",
     "text": [
      "39\n"
     ]
    }
   ],
   "source": [
    "def f (x,y):\n",
    "    if(x%y==0):\n",
    "        return 0\n",
    "    return x+y+f(x+1,y)\n",
    "print(f(16,3))"
   ]
  },
  {
   "cell_type": "code",
   "execution_count": null,
   "id": "6b3e5516",
   "metadata": {},
   "outputs": [],
   "source": []
  }
 ],
 "metadata": {
  "kernelspec": {
   "display_name": "Python 3",
   "language": "python",
   "name": "python3"
  },
  "language_info": {
   "codemirror_mode": {
    "name": "ipython",
    "version": 3
   },
   "file_extension": ".py",
   "mimetype": "text/x-python",
   "name": "python",
   "nbconvert_exporter": "python",
   "pygments_lexer": "ipython3",
   "version": "3.8.8"
  }
 },
 "nbformat": 4,
 "nbformat_minor": 5
}
