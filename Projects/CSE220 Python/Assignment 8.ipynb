{
 "cells": [
  {
   "cell_type": "code",
   "execution_count": 6,
   "id": "e9145c49",
   "metadata": {},
   "outputs": [
    {
     "name": "stdout",
     "output_type": "stream",
     "text": [
      "\n",
      "//=======Task 1 -- RECURSIVELY calculate the height of a tree=======//\n",
      "Array tree: [None, 'A', 'B', 'C', 'D', 'E', 'F', 'G', 'H', 'I', 'J', None, 'K', None, 'L', 'M']\n",
      "Height is: 4\n",
      "\n",
      "//=======Task 2 -- RECURSIVELY calculate the level of a Node in a tree.=======//\n",
      "External Node data :  L\n",
      "Level of L is 3\n",
      "External Node data :  G\n",
      "Level of G is 2\n",
      "\n",
      "//=======Task 3 -- Print elements of all the Nodes of a tree using Pre-order Traversal.=======//\n",
      "Tree:  [None, 'A', 'B', 'C', 'D', 'E', 'F', 'G', 'H', 'I', 'J', None, 'K', None, 'L', 'M']\n",
      "Pre order Print: \n",
      "A B D H I E J C F K G L M \n",
      "//=======Task 4 -- Print elements of all the Nodes of a tree using In-order Traversal=======//\n",
      "Tree:  [None, 'A', 'B', 'C', 'D', 'E', 'F', 'G', 'H', 'I', 'J', None, 'K', None, 'L', 'M']\n",
      "In order Print: \n",
      "H D I B J E A K F C L G M \n",
      "//=======Task 5 -- Print elements of all the Nodes of a tree using Post-order Traversal.=======//\n",
      "Tree:  [None, 'A', 'B', 'C', 'D', 'E', 'F', 'G', 'H', 'I', 'J', None, 'K', None, 'L', 'M']\n",
      "Post order Print: \n",
      "H I D J E B K F L M G C A \n",
      "//=======Task 6 -- Write a method which will evaluate whether two trees are exactly same or not.=======//\n",
      "Tree 1: [None, 'A', 'B', 'C', 'D', 'E', 'F', 'G', 'H', 'I', 'J', None, 'K', None, 'L', 'M']\n",
      "Tree 2: [None, 'A', 'B', 'C', 'D', 'E', 'F', 'G', 'I', 'H', 'J', None, 'K', None, 'L', 'M']\n",
      "Tree 1 and Tree 2 Same?: False\n"
     ]
    }
   ],
   "source": [
    "# Node class\n",
    "class Node:\n",
    "    def __init__(self,d,p=None,l=None,r=None):\n",
    "        self.data = d\n",
    "        self.parent = p\n",
    "        self.l = l\n",
    "        self.r = r\n",
    "# making tree ds\n",
    "head = Node(\"A\")\n",
    "head.l = Node(\"B\",head)\n",
    "head.r = Node(\"C\",head)\n",
    "head.l.l = Node(\"D\",head.l)\n",
    "head.l.r = Node(\"E\",head.l)\n",
    "head.r.l = Node(\"F\",head.r)\n",
    "head.r.r = Node(\"G\",head.r)\n",
    "head.l.l.l = Node(\"H\",head.l.l)\n",
    "head.l.l.r = Node(\"I\",head.l.l)\n",
    "head.l.r.l = Node(\"J\",head.l.r)\n",
    "head.r.l.l = Node(\"K\",head.r.l)\n",
    "head.r.r.l = Node(\"L\",head.r.r)\n",
    "head.r.r.r = Node(\"M\",head.r.r)\n",
    "# Task 1 : RECURSIVELY calculate the height of a tree.\n",
    "def height_check(tr):\n",
    "    if tr is None:\n",
    "        return 0\n",
    "    return 1 + max(height_check(tr.l),height_check(tr.r))\n",
    "\n",
    "print(\"\\n//=======Task 1 -- RECURSIVELY calculate the height of a tree=======//\")\n",
    "arr_1 = [None,\"A\",\"B\",\"C\",\"D\",\"E\",\"F\",\"G\",\"H\",\"I\",\"J\",None,\"K\",None,\"L\",\"M\"]\n",
    "print(\"Array tree:\",arr_1)\n",
    "print('Height is: {}'.format(height_check(head)))\n",
    "\n",
    "\n",
    "# Task 2 : RECURSIVELY calculate the level of a Node in a tree.\n",
    "\n",
    "def level_check(head):\n",
    "    if head is None:\n",
    "        return None\n",
    "    if head.parent is None:\n",
    "        return 0\n",
    "    return 1+level_check(head.parent)\n",
    "\n",
    "print(\"\\n//=======Task 2 -- RECURSIVELY calculate the level of a Node in a tree.=======//\")\n",
    "node = head.r.r.l\n",
    "print(\"External Node data : \",node.data)\n",
    "print(\"Level of {} is {}\".format(node.data,level_check(node)))\n",
    "node2 = head.r.r\n",
    "print(\"External Node data : \",node2.data)\n",
    "print(\"Level of {} is {}\".format(node2.data,level_check(node2)))\n",
    "\n",
    "# Task 3 : Print elements of all the Nodes of a tree using Pre-order Traversal.\n",
    "def pre_order(head):\n",
    "    if head is not None:\n",
    "        print(\"{} \".format(head.data),end=\"\")            \n",
    "        pre_order(head.l)\n",
    "        pre_order(head.r)\n",
    "print(\"\\n//=======Task 3 -- Print elements of all the Nodes of a tree using Pre-order Traversal.=======//\")\n",
    "\n",
    "print(\"Tree: \",arr_1)\n",
    "print(\"Pre order Print: \")\n",
    "pre_order(head)\n",
    "\n",
    "# Task 4: Print elements of all the Nodes of a tree using In-order Traversal\n",
    "def in_order(head):\n",
    "#     if(head.l != None or head.r != None):\n",
    "#         in_order(head.l)\n",
    "#     print(head.data,end=\" \")\n",
    "#     if(head.l != None or head.r != None):\n",
    "#         in_order(head.r)\n",
    "    if head is None:\n",
    "            return\n",
    "    in_order(head.l)\n",
    "    print(\"{} \".format(head.data),end=\"\")            \n",
    "    in_order(head.r)\n",
    "    \n",
    "print(\"\\n//=======Task 4 -- Print elements of all the Nodes of a tree using In-order Traversal=======//\")\n",
    "\n",
    "print(\"Tree: \",arr_1)\n",
    "print(\"In order Print: \")\n",
    "in_order(head)\n",
    "\n",
    "# Task 5 : Print elements of all the Nodes of a tree using Post-order Traversal.\n",
    "def post_order(head):\n",
    "    if head is None:\n",
    "        return\n",
    "    post_order(head.l)\n",
    "    post_order(head.r)\n",
    "    print(\"{} \".format(head.data),end=\"\")\n",
    "print(\"\\n//=======Task 5 -- Print elements of all the Nodes of a tree using Post-order Traversal.=======//\")\n",
    "\n",
    "print(\"Tree: \",arr_1)\n",
    "print(\"Post order Print: \")\n",
    "post_order(head)\n",
    "\n",
    "arr_2 = [None,\"A\",\"B\",\"C\",\"D\",\"E\",\"F\",\"G\",\"I\",\"H\",\"J\",None,\"K\",None,\"L\",\"M\"]\n",
    "\n",
    "head2 = Node(\"A\")\n",
    "head2.l = Node(\"B\",head2)\n",
    "head2.r = Node(\"C\",head2)\n",
    "head2.l.l = Node(\"D\",head2.l)\n",
    "head2.l.r = Node(\"E\",head2.l)\n",
    "head2.r.l = Node(\"F\",head2.r)\n",
    "head2.r.r = Node(\"G\",head2.r)\n",
    "head2.l.l.l = Node(\"I\",head2.l.l)\n",
    "head2.l.l.r = Node(\"H\",head2.l.l)\n",
    "head2.l.r.l = Node(\"J\",head2.l.r)\n",
    "head2.r.l.l = Node(\"K\",head2.r.l)\n",
    "head2.r.r.l = Node(\"L\",head2.r.r)\n",
    "head2.r.r.r = Node(\"M\",head2.r.r)\n",
    "\n",
    "\n",
    "# Task 6 : Write a method which will evaluate whether two trees are exactly same or not.\n",
    "\n",
    "def isExact(head,head2):\n",
    "    if not(head!=None) and not(head2!=None):\n",
    "        return True\n",
    "    if not(head == None and head2 == None) and not(head.data!=head2.data):\n",
    "        return isExact(head.l,head2.l) and isExact(head.r,head2.r)\n",
    "    return False\n",
    "print(\"\\n//=======Task 6 -- Write a method which will evaluate whether two trees are exactly same or not.=======//\")\n",
    "\n",
    "print(\"Tree 1:\",arr_1)\n",
    "print(\"Tree 2:\",arr_2)\n",
    "print(\"Tree 1 and Tree 2 Same?:\",isExact(head,head2))\n",
    "\n",
    "# Task 7: Write a method which will return a copy (new tree) of a given tree.\n",
    "def copyTree(head):\n",
    "    while (head.l!= None or head.r!=None):\n",
    "       pass\n"
   ]
  },
  {
   "cell_type": "code",
   "execution_count": 3,
   "id": "34193de4",
   "metadata": {},
   "outputs": [
    {
     "name": "stdout",
     "output_type": "stream",
     "text": [
      "\n",
      "//=======Task 1 -- RECURSIVELY calculate the height of a tree=======//\n",
      "Array tree: [None, 'A', 'B', 'C', 'D', 'E', 'F', 'G', 'H', 'I', 'J', None, 'K', None, 'L', 'M']\n",
      "Height is: 4\n"
     ]
    }
   ],
   "source": []
  },
  {
   "cell_type": "code",
   "execution_count": 101,
   "id": "88b53fc5",
   "metadata": {},
   "outputs": [
    {
     "name": "stdout",
     "output_type": "stream",
     "text": [
      "Task 2:\n",
      "External Node data :  L\n",
      "Level of L is 3\n",
      "External Node data :  G\n",
      "Level of G is 2\n"
     ]
    }
   ],
   "source": []
  },
  {
   "cell_type": "code",
   "execution_count": 118,
   "id": "cba55f2d",
   "metadata": {},
   "outputs": [
    {
     "name": "stdout",
     "output_type": "stream",
     "text": [
      "Task 3:\n",
      "Tree:  [None, 'A', 'B', 'C', 'D', 'E', 'F', 'G', 'H', 'I', 'J', None, 'K', None, 'L', 'M']\n",
      "Pre order Print: \n",
      "A B D H I E J C F K G L M "
     ]
    }
   ],
   "source": []
  },
  {
   "cell_type": "code",
   "execution_count": 4,
   "id": "8f1cb310",
   "metadata": {},
   "outputs": [
    {
     "name": "stdout",
     "output_type": "stream",
     "text": [
      "\n",
      "//=======Task 4 -- Print elements of all the Nodes of a tree using In-order Traversal=======//\n",
      "Tree:  [None, 'A', 'B', 'C', 'D', 'E', 'F', 'G', 'H', 'I', 'J', None, 'K', None, 'L', 'M']\n",
      "In order Print: \n",
      "H D I B J E A K F C L G M "
     ]
    }
   ],
   "source": []
  },
  {
   "cell_type": "code",
   "execution_count": 132,
   "id": "496d25ae",
   "metadata": {},
   "outputs": [
    {
     "name": "stdout",
     "output_type": "stream",
     "text": [
      "Task 5:\n",
      "Tree:  [None, 'A', 'B', 'C', 'D', 'E', 'F', 'G', 'H', 'I', 'J', None, 'K', None, 'L', 'M']\n",
      "Post order Print: \n",
      "H I D J E B K F L M G C A "
     ]
    }
   ],
   "source": []
  },
  {
   "cell_type": "code",
   "execution_count": 150,
   "id": "a7ae5985",
   "metadata": {},
   "outputs": [
    {
     "name": "stdout",
     "output_type": "stream",
     "text": [
      "Task 5:\n",
      "Tree 1: [None, 'A', 'B', 'C', 'D', 'E', 'F', 'G', 'H', 'I', 'J', None, 'K', None, 'L', 'M']\n",
      "Tree 2: [None, 'A', 'B', 'C', 'D', 'E', 'F', 'G', 'I', 'H', 'J', None, 'K', None, 'L', 'M']\n",
      "Tree 1 and Tree 2 Same?: False\n"
     ]
    }
   ],
   "source": []
  },
  {
   "cell_type": "code",
   "execution_count": 59,
   "id": "7c3e13f7",
   "metadata": {},
   "outputs": [],
   "source": []
  }
 ],
 "metadata": {
  "kernelspec": {
   "display_name": "Python 3",
   "language": "python",
   "name": "python3"
  },
  "language_info": {
   "codemirror_mode": {
    "name": "ipython",
    "version": 3
   },
   "file_extension": ".py",
   "mimetype": "text/x-python",
   "name": "python",
   "nbconvert_exporter": "python",
   "pygments_lexer": "ipython3",
   "version": "3.8.8"
  }
 },
 "nbformat": 4,
 "nbformat_minor": 5
}
