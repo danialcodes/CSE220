{
 "cells": [
  {
   "cell_type": "code",
   "execution_count": 21,
   "id": "08d236a8",
   "metadata": {},
   "outputs": [
    {
     "name": "stdout",
     "output_type": "stream",
     "text": [
      "[10, 20, 30, 40, 50, 0, 0, 0, 0, 0, 0]\n",
      "5\n",
      "[0, 20, 30, 40, 50, 0, 0, 10, 0, 0, 0]\n",
      "[0, 0, 30, 40, 50, 0, 0, 10, 20, 0, 0]\n",
      "[0, 0, 0, 40, 50, 0, 0, 10, 20, 30, 0]\n",
      "[0, 0, 0, 40, 50, 0, 0, 10, 20, 30, 40]\n",
      "[50, 0, 0, 40, 0, 0, 0, 10, 20, 30, 40]\n",
      "[50, 0, 0, 40, 0, 0, 0, 10, 20, 30, 40]\n",
      "[50, 0, 0, 40, 0, 0, 0, 10, 20, 30, 40]\n",
      "[50, 0, 0, 10, 0, 0, 0, 0, 20, 30, 40]\n",
      "[50, 0, 0, 10, 20, 0, 0, 0, 0, 30, 40]\n",
      "[50, 0, 0, 10, 20, 30, 0, 0, 0, 0, 40]\n",
      "[50, 0, 0, 10, 20, 30, 40, 0, 0, 0, 0]\n",
      "[50, 0, 0, 10, 20, 30, 40, 0, 0, 0, 0]\n"
     ]
    }
   ],
   "source": [
    "def make_cir(arr,indx):\n",
    "    size = len(arr) - arr.count(0)\n",
    "    \n",
    "    for i in range(len(arr)):\n",
    "        arr[indx] = arr[i]\n",
    "        \n",
    "        if( (indx+1) >= len(arr)):\n",
    "            indx = 0\n",
    "        else:\n",
    "            indx+=1\n",
    "            arr[i] = 0\n",
    "        print(arr)\n",
    "arr = [10,20,30,40,50,0,0,0,0,0,0]\n",
    "print(arr)\n",
    "make_cir(arr,7)\n",
    "print(arr)\n"
   ]
  },
  {
   "cell_type": "code",
   "execution_count": 22,
   "id": "afa5b98e",
   "metadata": {},
   "outputs": [
    {
     "data": {
      "text/plain": [
       "9"
      ]
     },
     "execution_count": 22,
     "metadata": {},
     "output_type": "execute_result"
    }
   ],
   "source": []
  },
  {
   "cell_type": "code",
   "execution_count": null,
   "id": "553e2d0e",
   "metadata": {},
   "outputs": [],
   "source": []
  }
 ],
 "metadata": {
  "kernelspec": {
   "display_name": "Python 3",
   "language": "python",
   "name": "python3"
  },
  "language_info": {
   "codemirror_mode": {
    "name": "ipython",
    "version": 3
   },
   "file_extension": ".py",
   "mimetype": "text/x-python",
   "name": "python",
   "nbconvert_exporter": "python",
   "pygments_lexer": "ipython3",
   "version": "3.8.8"
  }
 },
 "nbformat": 4,
 "nbformat_minor": 5
}
