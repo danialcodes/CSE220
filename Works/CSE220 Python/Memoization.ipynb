{
 "cells": [
  {
   "cell_type": "code",
   "execution_count": 28,
   "id": "345c2ddf",
   "metadata": {},
   "outputs": [
    {
     "name": "stdout",
     "output_type": "stream",
     "text": [
      "*\n",
      "*\n",
      "*\n",
      "*\n",
      "*\n",
      "*\n",
      "*\n",
      "*\n",
      "*\n",
      "8\n"
     ]
    }
   ],
   "source": [
    "a =[0]*10000\n",
    "\n",
    "def fibMemo(n):\n",
    "    print(\"*\")\n",
    "    if(a[n]>0):\n",
    "        return a[n]\n",
    "    if(n==0):\n",
    "        return a[n]\n",
    "    \n",
    "    if(n==1 or n==2):\n",
    "        a[n]=1\n",
    "    else:\n",
    "        a[n]= fibMemo(n-1)+fibMemo(n-2)\n",
    "    return a[n]\n",
    "print(fibMemo(6))"
   ]
  },
  {
   "cell_type": "code",
   "execution_count": 29,
   "id": "c4d085f1",
   "metadata": {},
   "outputs": [
    {
     "name": "stdout",
     "output_type": "stream",
     "text": [
      "*\n",
      "*\n",
      "*\n",
      "*\n",
      "*\n",
      "*\n"
     ]
    },
    {
     "data": {
      "text/plain": [
       "720"
      ]
     },
     "execution_count": 29,
     "metadata": {},
     "output_type": "execute_result"
    }
   ],
   "source": [
    "def f(n):\n",
    "    print(\"*\")\n",
    "    if(n==1):\n",
    "        return 1\n",
    "    return n*f(n-1)\n",
    "f(6)"
   ]
  },
  {
   "cell_type": "code",
   "execution_count": null,
   "id": "55acd458",
   "metadata": {},
   "outputs": [],
   "source": []
  }
 ],
 "metadata": {
  "kernelspec": {
   "display_name": "Python 3",
   "language": "python",
   "name": "python3"
  },
  "language_info": {
   "codemirror_mode": {
    "name": "ipython",
    "version": 3
   },
   "file_extension": ".py",
   "mimetype": "text/x-python",
   "name": "python",
   "nbconvert_exporter": "python",
   "pygments_lexer": "ipython3",
   "version": "3.8.8"
  }
 },
 "nbformat": 4,
 "nbformat_minor": 5
}
