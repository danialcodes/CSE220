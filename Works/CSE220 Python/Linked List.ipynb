{
 "cells": [
  {
   "cell_type": "code",
   "execution_count": 40,
   "id": "c3774d3a",
   "metadata": {},
   "outputs": [],
   "source": [
    "lst = [1,2,3,4,5,6,7,8,9,10]"
   ]
  },
  {
   "cell_type": "code",
   "execution_count": 1,
   "id": "a3880321",
   "metadata": {},
   "outputs": [],
   "source": [
    "class Node:\n",
    "    def __init__(self,v,n=None):\n",
    "        self.value = v\n",
    "        self.next = n\n",
    "    def printNode(self):\n",
    "        print(self.value,end=\" \")"
   ]
  },
  {
   "cell_type": "code",
   "execution_count": 4,
   "id": "826e6ae5",
   "metadata": {},
   "outputs": [],
   "source": [
    "class LinkedList:\n",
    "    def __init__(self,iterable):\n",
    "        self.head = None\n",
    "        tail = None\n",
    "        self.size = 0\n",
    "        for e in iterable:\n",
    "            node = Node(e,None)\n",
    "            if(self.head is None):\n",
    "                self.head = node\n",
    "                tail = node\n",
    "                self.size+=1\n",
    "            else:\n",
    "                tail.next = node\n",
    "                tail = node\n",
    "                self.size+=1\n",
    "    def printList(self):\n",
    "        node = self.head\n",
    "        while(node!=None):\n",
    "            node.printNode()\n",
    "            node = node.next\n",
    "    def nodeAt(self,index):\n",
    "        node = self.head\n",
    "        count = 0\n",
    "        while(count<index):\n",
    "            node = node.next\n",
    "            count+=1\n",
    "        return node\n",
    "    def insert(self,value,index):\n",
    "        value = Node(value,None)\n",
    "        if(index<0 or index>self.size):\n",
    "            print(\"invalid Index\")\n",
    "        else:\n",
    "            if(index==0):\n",
    "                value.next = self.head\n",
    "                self.head = value\n",
    "            else:\n",
    "                pre = self.nodeAt(index-1)\n",
    "                post = pre.next\n",
    "                pre.next = value\n",
    "                value.next = post\n",
    "    \n",
    "    def remove(self,index):\n",
    "        pre = self.nodeAt(index-1)\n",
    "        pre.next = pre.next.next"
   ]
  },
  {
   "cell_type": "code",
   "execution_count": 6,
   "id": "4c841379",
   "metadata": {},
   "outputs": [
    {
     "name": "stdout",
     "output_type": "stream",
     "text": [
      "S h o h a r d o \n",
      "S - h o h a r d o \n",
      "S h o h a r d o "
     ]
    }
   ],
   "source": [
    "x = LinkedList(\"Shohardo\")\n",
    "x.printList()\n",
    "print()\n",
    "x.insert(\"-\",1)\n",
    "x.printList()\n",
    "print()\n",
    "x.remove(1)\n",
    "x.printList()\n"
   ]
  },
  {
   "cell_type": "code",
   "execution_count": 7,
   "id": "37cb41f8",
   "metadata": {},
   "outputs": [],
   "source": [
    "a = x.head\n",
    "new_head = None\n",
    "count = 0\n",
    "while(a is not None):\n",
    "    if(count ==0):\n",
    "        new_head = Node(a.value,None)\n",
    "        tail = new_head\n",
    "    else:\n",
    "        node = Node(a.value,None)\n",
    "        tail.next = node\n",
    "        tail = node\n",
    "    a = a.next\n",
    "    count+=1"
   ]
  },
  {
   "cell_type": "code",
   "execution_count": 13,
   "id": "419369e9",
   "metadata": {},
   "outputs": [],
   "source": [
    "# a = new_head\n",
    "# while(a is not None):\n",
    "#     print(a.value)\n",
    "#     a = a.next"
   ]
  },
  {
   "cell_type": "code",
   "execution_count": 14,
   "id": "7a96a8af",
   "metadata": {},
   "outputs": [
    {
     "name": "stdout",
     "output_type": "stream",
     "text": [
      "10 11 12 13 14 15 16 17 18 19 20 "
     ]
    }
   ],
   "source": [
    "# reverse a  linked list\n",
    "s = [10,11,12,13,14,15,16,17,18,19,20]\n",
    "s = LinkedList(s)\n",
    "s.printList()\n",
    "\n",
    "x = s.head\n",
    "head = None\n",
    "tail = None\n",
    "while(x is not None):\n",
    "    node = Node(x.value,None)\n",
    "    if(head is None):\n",
    "        head = "
   ]
  },
  {
   "cell_type": "code",
   "execution_count": null,
   "id": "f3ea7761",
   "metadata": {},
   "outputs": [],
   "source": []
  }
 ],
 "metadata": {
  "kernelspec": {
   "display_name": "Python 3",
   "language": "python",
   "name": "python3"
  },
  "language_info": {
   "codemirror_mode": {
    "name": "ipython",
    "version": 3
   },
   "file_extension": ".py",
   "mimetype": "text/x-python",
   "name": "python",
   "nbconvert_exporter": "python",
   "pygments_lexer": "ipython3",
   "version": "3.8.8"
  }
 },
 "nbformat": 4,
 "nbformat_minor": 5
}
