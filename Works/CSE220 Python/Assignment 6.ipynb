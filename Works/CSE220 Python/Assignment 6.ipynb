{
 "cells": [
  {
   "cell_type": "code",
   "execution_count": 41,
   "id": "5185a1e9",
   "metadata": {},
   "outputs": [
    {
     "name": "stdout",
     "output_type": "stream",
     "text": [
      "\n",
      "//=======Task 1 -- Array Recursively Sorting with selection sort=======//\n",
      "Before Sorting:  [60, 50, 40, 30, 20, 10, 70]\n",
      "After Sorting:  [10, 20, 30, 40, 50, 60, 70]\n"
     ]
    }
   ],
   "source": [
    "# Task 1\n",
    "def findMax(arr,maxim,max_indx,i):\n",
    "    if(i==0):\n",
    "        return maxim,max_indx\n",
    "    \n",
    "    if(arr[i]>maxim):\n",
    "            maxim = arr[i]\n",
    "            max_indx = i\n",
    "            \n",
    "    return findMax(arr,maxim,max_indx,i-1)\n",
    "    \n",
    "def recur_selection_sort(arr,i):\n",
    "    if(i==0):\n",
    "        return arr\n",
    "    maxim,max_indx = findMax(arr,arr[0],0,i) \n",
    "    temp = arr[i]\n",
    "    arr[i]=maxim\n",
    "    arr[max_indx]=temp\n",
    "    return recur_selection_sort(arr,i-1)\n",
    "    \n",
    "print(\"\\n//=======Task 1 -- Array Recursively Sorting with selection sort=======//\")\n",
    "\n",
    "arr1= [60,50,40,30,20,10,70]\n",
    "print(\"Before Sorting: \",arr1)\n",
    "print(\"After Sorting: \",recur_selection_sort(arr1,len(arr1)-1))"
   ]
  },
  {
   "cell_type": "code",
   "execution_count": 42,
   "id": "ac16b79c",
   "metadata": {},
   "outputs": [
    {
     "name": "stdout",
     "output_type": "stream",
     "text": [
      "\n",
      "//=======Task 2 -- Array Recursively Sorting with Insertion Sort=======//\n",
      "Before Sorting:  [100, 90, 80, 70, 60, 65, 69, 50]\n",
      "After Sorting:  [50, 60, 65, 69, 70, 80, 90, 100]\n"
     ]
    }
   ],
   "source": [
    "# Task 2\n",
    "def insertIfPossible(arr,i):\n",
    "    if(i==-1):\n",
    "        return\n",
    "    if (arr[i]>arr[i+1]):\n",
    "        temp = arr[i]\n",
    "        arr[i] = arr[i+1]\n",
    "        arr[i+1] = temp\n",
    "        return insertIfPossible(arr,i-1)\n",
    "    return \n",
    "\n",
    "def recur_insertion_sort(arr,i=0):\n",
    "    if(i==len(arr)):\n",
    "        return arr\n",
    "    insertIfPossible(arr,i-1) \n",
    "    return recur_insertion_sort(arr,i+1)\n",
    "print(\"\\n//=======Task 2 -- Array Recursively Sorting with Insertion Sort=======//\")\n",
    "\n",
    "arr2 = [100,90,80,70,60,65,69,50]\n",
    "print(\"Before Sorting: \",arr2)\n",
    "print(\"After Sorting: \",recur_insertion_sort(arr2))"
   ]
  },
  {
   "cell_type": "code",
   "execution_count": 28,
   "id": "71e2b5d9",
   "metadata": {},
   "outputs": [],
   "source": [
    "# Task 3-4\n",
    "class singleNode:\n",
    "    def __init__(self,v=None,n=None):\n",
    "        self.value = v\n",
    "        self.next = n\n",
    "class singlyLinkedList:\n",
    "    size = 0\n",
    "    def __init__(self,iterable):\n",
    "        self.head = None\n",
    "        tail = None\n",
    "        for i in iterable:\n",
    "            self.size+=1\n",
    "            node = singleNode(i,None)\n",
    "            if(self.head is None):\n",
    "                self.head = node\n",
    "                tail = self.head\n",
    "            else:\n",
    "                tail.next = node\n",
    "                tail = node\n",
    "    def __str__(self):\n",
    "        node = self.head\n",
    "        r = \"\"\n",
    "        while(node is not None):\n",
    "            r+=str(node.value)+\" \"\n",
    "            node = node.next\n",
    "        return r\n",
    "    # Task 3\n",
    "    def bubbleSort(self):\n",
    "        for i in range(self.size-1,-1,-1):\n",
    "            itr = self.head\n",
    "            for j in range(i):\n",
    "                if(itr.value>itr.next.value):\n",
    "                    temp = itr.next.value\n",
    "                    itr.next.value = itr.value\n",
    "                    itr.value = temp\n",
    "                itr= itr.next\n",
    "    # Task 4\n",
    "    def selectionSort(self):\n",
    "        for i in range(self.size-1,-1,-1):\n",
    "            itr = self.head\n",
    "            maxim = itr.value\n",
    "            max_node = self.head\n",
    "            for j in range(i+1):\n",
    "                if(itr.value>maxim):\n",
    "                    maxim = itr.value\n",
    "                    max_node = itr\n",
    "                if(j!=i):\n",
    "                    itr = itr.next\n",
    "            temp = itr.value\n",
    "            itr.value=maxim\n",
    "            max_node.value=temp"
   ]
  },
  {
   "cell_type": "code",
   "execution_count": 43,
   "id": "4f252a33",
   "metadata": {},
   "outputs": [
    {
     "name": "stdout",
     "output_type": "stream",
     "text": [
      "\n",
      "//=======Task 3 -- Singly Linked List Sorting with Bubble Sort=======//\n",
      "Before Sorting:  60 70 50 40 30 20 10 80 \n",
      "After Sorting:  10 20 30 40 50 60 70 80 \n",
      "\n",
      "//=======Task 4 -- Singly Linked List Sorting with Selection Sort=======//\n",
      "Before Sorting:  50 60 70 10 20 30 5 2 \n",
      "After Sorting:  2 5 10 20 30 50 60 70 \n"
     ]
    }
   ],
   "source": [
    "print(\"\\n//=======Task 3 -- Singly Linked List Sorting with Bubble Sort=======//\")\n",
    "arr3 = [60,70,50,40,30,20,10,80]\n",
    "ll1 = singlyLinkedList(arr3)\n",
    "print(\"Before Sorting: \",ll1)\n",
    "ll1.bubbleSort()\n",
    "print(\"After Sorting: \",ll1)\n",
    "\n",
    "print(\"\\n//=======Task 4 -- Singly Linked List Sorting with Selection Sort=======//\")\n",
    "arr4 = [50,60,70,10,20,30,5,2]\n",
    "ll2 = singlyLinkedList(arr4)\n",
    "print(\"Before Sorting: \",ll2)\n",
    "ll2.selectionSort()\n",
    "print(\"After Sorting: \",ll2)"
   ]
  },
  {
   "cell_type": "code",
   "execution_count": 31,
   "id": "e2c3d3ec",
   "metadata": {},
   "outputs": [],
   "source": [
    "# Task 5\n",
    "class doubleNode:\n",
    "    def __init__(self,v=None,p=None,n=None):\n",
    "        self.value = v\n",
    "        self.next = n\n",
    "        self.prev = p\n",
    "\n",
    "class DoublyLinkedList:\n",
    "    size = 0\n",
    "    def __init__(self,arr):\n",
    "        self.head = doubleNode(None, None, None)\n",
    "        self.head.next = self.head.prev = self.head\n",
    "\n",
    "        self.head.next = None\n",
    "        tail = None\n",
    "        for item in arr:\n",
    "            self.size+=1\n",
    "            newNode = doubleNode(item, None, None)\n",
    "            if self.head.next == None:\n",
    "                self.head.next = newNode\n",
    "                self.head.prev = newNode\n",
    "                newNode.prev = self.head\n",
    "                newNode.next = self.head\n",
    "\n",
    "                tail = newNode\n",
    "\n",
    "            else:\n",
    "                newNode.next = self.head\n",
    "                newNode.prev = tail\n",
    "                tail.next = newNode\n",
    "                self.head.prev = newNode\n",
    "\n",
    "                tail = newNode\n",
    "    def __str__(self):\n",
    "        itr = self.head.next\n",
    "        r = \"\"\n",
    "        while(itr is not self.head):\n",
    "            r+=str(itr.value)+\"  \"\n",
    "            itr = itr.next\n",
    "        return r\n",
    "#     Task 5\n",
    "    def insertionSort(self):\n",
    "        itr = self.head.next\n",
    "        while(itr!=self.head):\n",
    "            \n",
    "            itr2= itr.prev\n",
    "            while(itr2!=self.head):\n",
    "                \n",
    "                if (itr2.value>itr2.next.value):\n",
    "                    temp = itr2.value\n",
    "                    itr2.value = itr2.next.value\n",
    "                    itr2.next.value = temp\n",
    "                    itr2 = itr2.prev\n",
    "                else:\n",
    "                    break\n",
    "            itr = itr.next\n",
    "            "
   ]
  },
  {
   "cell_type": "code",
   "execution_count": 45,
   "id": "fa376c29",
   "metadata": {},
   "outputs": [
    {
     "name": "stdout",
     "output_type": "stream",
     "text": [
      "\n",
      "//=======Task 5 -- Doubly Linked List Sorting with Insertion Sort=======//\n",
      "Before Sorting:  50  20  10  30  40  \n",
      "After Sorting:  10  20  30  40  50  \n"
     ]
    }
   ],
   "source": [
    "print(\"\\n//=======Task 5 -- Doubly Linked List Sorting with Insertion Sort=======//\")\n",
    "\n",
    "arr5 = [50,20,10,30,40]\n",
    "dl1 = DoublyLinkedList(arr5)\n",
    "print(\"Before Sorting: \",dl1)\n",
    "\n",
    "dl1.insertionSort()\n",
    "print(\"After Sorting: \",dl1)"
   ]
  },
  {
   "cell_type": "code",
   "execution_count": 49,
   "id": "c13a5164",
   "metadata": {},
   "outputs": [
    {
     "name": "stdout",
     "output_type": "stream",
     "text": [
      "\n",
      "//=======Task 6 -- Array item Recursively Searching with Binary Search=======//\n",
      "Main array: [10, 20, 30, 40, 50, 60, 70]\n",
      "Find  7\n",
      "Index:  -1\n",
      "Main array: [10, 20, 30, 40, 50, 60, 70]\n",
      "Find  40\n",
      "Index:  3\n"
     ]
    }
   ],
   "source": [
    "# Task 6\n",
    "\n",
    "def recur_binarySearch(arr,num,r,l=0):\n",
    "    if(l>r):\n",
    "        return -1\n",
    "    m = (l+r)//2\n",
    "    if(arr[m]==num):return m\n",
    "    elif(arr[m]>num):\n",
    "        r=m-1\n",
    "    else:\n",
    "        l=m+1\n",
    "    return recur_binarySearch(arr,num,r,l)\n",
    "\n",
    "print(\"\\n//=======Task 6 -- Array item Recursively Searching with Binary Search=======//\")\n",
    "\n",
    "bs = [10,20,30,40,50,60,70]\n",
    "print(\"Main array:\",bs)\n",
    "findable = 7\n",
    "print(\"Find \",findable)\n",
    "print(\"Index: \",recur_binarySearch(bs,findable,len(bs)-1))\n",
    "print(\"Main array:\",bs)\n",
    "\n",
    "findable = 40\n",
    "print(\"Find \",findable)\n",
    "print(\"Index: \",recur_binarySearch(bs,findable,len(bs)-1))"
   ]
  },
  {
   "cell_type": "code",
   "execution_count": 50,
   "id": "1d46d6a3",
   "metadata": {},
   "outputs": [
    {
     "name": "stdout",
     "output_type": "stream",
     "text": [
      "\n",
      "//=======Task 7 -- nth Fibonacci Number with recursive memoization=======//\n",
      "5\n"
     ]
    }
   ],
   "source": [
    "# Task 7\n",
    "global_arr = [0]*9999\n",
    "def recursive_memoiz_fibo(n):\n",
    "    if(n<0):\n",
    "        return \"Fibonacci Number starts from 0\"\n",
    "    if(n==0):\n",
    "        return 0\n",
    "    if(global_arr[n]>0):\n",
    "        return global_arr[n]\n",
    "    if(n==1 or n==2):\n",
    "        global_arr[n] = 1\n",
    "    else:\n",
    "        global_arr[n] = recursive_memoiz_fibo(n-1)+recursive_memoiz_fibo(n-2)\n",
    "    return global_arr[n]\n",
    "\n",
    "\n",
    "print(\"\\n//=======Task 7 -- nth Fibonacci Number with recursive memoization=======//\")\n",
    "\n",
    "print(recursive_memoiz_fibo(5))"
   ]
  },
  {
   "cell_type": "code",
   "execution_count": null,
   "id": "8f68bc52",
   "metadata": {},
   "outputs": [],
   "source": []
  }
 ],
 "metadata": {
  "kernelspec": {
   "display_name": "Python 3",
   "language": "python",
   "name": "python3"
  },
  "language_info": {
   "codemirror_mode": {
    "name": "ipython",
    "version": 3
   },
   "file_extension": ".py",
   "mimetype": "text/x-python",
   "name": "python",
   "nbconvert_exporter": "python",
   "pygments_lexer": "ipython3",
   "version": "3.8.8"
  }
 },
 "nbformat": 4,
 "nbformat_minor": 5
}
