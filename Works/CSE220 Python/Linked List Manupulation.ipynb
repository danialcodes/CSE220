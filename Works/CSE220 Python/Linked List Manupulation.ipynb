{
 "cells": [
  {
   "cell_type": "code",
   "execution_count": 1,
   "id": "d3436181",
   "metadata": {},
   "outputs": [],
   "source": [
    "class Node:\n",
    "    def __init__(self,v,n):\n",
    "        self.value = v\n",
    "        self.next = n"
   ]
  },
  {
   "cell_type": "code",
   "execution_count": 2,
   "id": "a89331db",
   "metadata": {},
   "outputs": [],
   "source": [
    "class LinkedList:\n",
    "    def __init__(self,iterable):\n",
    "        self.head = None\n",
    "        tail = None\n",
    "        for i in iterable:\n",
    "            node = Node(i,None)\n",
    "            if(self.head is None):\n",
    "                self.head = node\n",
    "                tail = self.head\n",
    "            else:\n",
    "                tail.next = node\n",
    "                tail = node\n",
    "    def printList(self):\n",
    "        node = self.head\n",
    "        while(node is not None):\n",
    "            print(node.value,end=\"-\")\n",
    "            node = node.next"
   ]
  },
  {
   "cell_type": "code",
   "execution_count": 3,
   "id": "431df660",
   "metadata": {},
   "outputs": [],
   "source": [
    "test = [0,1,2,3,4,5,6,7,8,9,10]\n",
    "testList = LinkedList(test)"
   ]
  },
  {
   "cell_type": "code",
   "execution_count": 4,
   "id": "67b4e2b8",
   "metadata": {},
   "outputs": [
    {
     "name": "stdout",
     "output_type": "stream",
     "text": [
      "0-1-2-3-4-5-6-7-8-9-10-"
     ]
    }
   ],
   "source": [
    "testList.printList()"
   ]
  },
  {
   "cell_type": "code",
   "execution_count": 5,
   "id": "802433fe",
   "metadata": {},
   "outputs": [
    {
     "name": "stdout",
     "output_type": "stream",
     "text": [
      "10\n"
     ]
    }
   ],
   "source": [
    "# Reverse a List\n",
    "i = testList.head\n",
    "head = None\n",
    "while (i is not None):\n",
    "    node = Node(i.value,None)\n",
    "    i = i.next\n",
    "    if(head is None):\n",
    "        head = node\n",
    "    else:\n",
    "        node.next = head\n",
    "        head = node\n",
    "    \n",
    "print(head.value)"
   ]
  },
  {
   "cell_type": "code",
   "execution_count": 89,
   "id": "1c776320",
   "metadata": {},
   "outputs": [
    {
     "name": "stdout",
     "output_type": "stream",
     "text": [
      "10-9-8-7-6-5-4-3-2-1-0-"
     ]
    }
   ],
   "source": [
    "i = head\n",
    "while (i is not None):\n",
    "    print(i.value,end=\"-\")\n",
    "    i = i.next"
   ]
  },
  {
   "cell_type": "code",
   "execution_count": 90,
   "id": "3737c535",
   "metadata": {},
   "outputs": [
    {
     "name": "stdout",
     "output_type": "stream",
     "text": [
      "0-1-2-3-4-5-6-7-8-9-10-"
     ]
    }
   ],
   "source": [
    "testList.printList()"
   ]
  },
  {
   "cell_type": "code",
   "execution_count": 6,
   "id": "380fdc2f",
   "metadata": {},
   "outputs": [],
   "source": [
    "n = testList.head\n",
    "newHead = None\n",
    "while (n is not None):\n",
    "    next = n.next\n",
    "    n.next = newHead\n",
    "    newHead = n\n",
    "    n = next\n",
    "testList.head = newHead"
   ]
  },
  {
   "cell_type": "code",
   "execution_count": 7,
   "id": "855051d6",
   "metadata": {},
   "outputs": [
    {
     "name": "stdout",
     "output_type": "stream",
     "text": [
      "10-9-8-7-6-5-4-3-2-1-0-"
     ]
    }
   ],
   "source": [
    "testList.printList()"
   ]
  },
  {
   "cell_type": "code",
   "execution_count": 93,
   "id": "f22f74d8",
   "metadata": {},
   "outputs": [],
   "source": [
    "n = testList.head\n",
    "newHead = None\n",
    "while (n is not None):\n",
    "    next = n.next\n",
    "    n.next = newHead\n",
    "    newHead = n\n",
    "    n = next\n",
    "testList.head = newHead"
   ]
  },
  {
   "cell_type": "code",
   "execution_count": 94,
   "id": "a13eacff",
   "metadata": {},
   "outputs": [
    {
     "name": "stdout",
     "output_type": "stream",
     "text": [
      "0-1-2-3-4-5-6-7-8-9-10-"
     ]
    }
   ],
   "source": [
    "testList.printList()"
   ]
  },
  {
   "cell_type": "code",
   "execution_count": 95,
   "id": "2cf924eb",
   "metadata": {},
   "outputs": [],
   "source": [
    "# Rotating Left\n",
    "oldHead = testList.head\n",
    "head = oldHead.next\n",
    "tail = head\n",
    "while (tail.next is not None):\n",
    "    tail = tail.next\n",
    "tail.next = oldHead\n",
    "oldHead.next = None\n",
    "testList.head = head"
   ]
  },
  {
   "cell_type": "code",
   "execution_count": 97,
   "id": "52b2f834",
   "metadata": {},
   "outputs": [
    {
     "name": "stdout",
     "output_type": "stream",
     "text": [
      "1-2-3-4-5-6-7-8-9-10-0-"
     ]
    }
   ],
   "source": [
    "testList.printList()"
   ]
  },
  {
   "cell_type": "code",
   "execution_count": 102,
   "id": "bd38d689",
   "metadata": {},
   "outputs": [],
   "source": [
    "# Rotating right\n",
    "old_head = testList.head\n",
    "tail = old_head.next\n",
    "while (tail.next is not None):\n",
    "    if(tail.next.next is None):\n",
    "        end = tail\n",
    "    tail = tail.next\n",
    "tail.next = old_head\n",
    "end.next = None\n",
    "testList.head = tail"
   ]
  },
  {
   "cell_type": "code",
   "execution_count": 103,
   "id": "0d854953",
   "metadata": {},
   "outputs": [
    {
     "name": "stdout",
     "output_type": "stream",
     "text": [
      "9-10-0-1-2-3-4-5-6-7-8-"
     ]
    }
   ],
   "source": [
    "testList.printList()"
   ]
  },
  {
   "cell_type": "code",
   "execution_count": null,
   "id": "47c395da",
   "metadata": {},
   "outputs": [],
   "source": []
  }
 ],
 "metadata": {
  "kernelspec": {
   "display_name": "Python 3",
   "language": "python",
   "name": "python3"
  },
  "language_info": {
   "codemirror_mode": {
    "name": "ipython",
    "version": 3
   },
   "file_extension": ".py",
   "mimetype": "text/x-python",
   "name": "python",
   "nbconvert_exporter": "python",
   "pygments_lexer": "ipython3",
   "version": "3.8.8"
  }
 },
 "nbformat": 4,
 "nbformat_minor": 5
}
