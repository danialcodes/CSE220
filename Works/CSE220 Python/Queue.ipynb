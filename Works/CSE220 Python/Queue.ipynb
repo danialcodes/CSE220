{
 "cells": [
  {
   "cell_type": "code",
   "execution_count": 51,
   "id": "d581c849",
   "metadata": {},
   "outputs": [],
   "source": [
    "#Queue With Linear Array\n",
    "\n",
    "class LA_Queue:\n",
    "    queue = [0]*5\n",
    "    size = 0\n",
    "    length = 5\n",
    "        \n",
    "    def enqueue(self,d):\n",
    "        if(self.size!=(self.length)):\n",
    "            self.queue[self.size] = d\n",
    "            self.size+=1\n",
    "        else:\n",
    "            raise IndexError(\"Queue OverFlow\")\n",
    "            \n",
    "    def dequeue(self):\n",
    "        dItem = self.queue[0]\n",
    "        if(self.size==0):\n",
    "            raise IndexError(\"Queue UnderFlow\")\n",
    "        else:\n",
    "            for i in range(self.size-1):\n",
    "                self.queue[i] = self.queue[i+1]\n",
    "            self.queue[self.size-1] = 0\n",
    "            self.size-=1\n",
    "            return dItem\n",
    "\n",
    "    def peek(self):\n",
    "        if(self.size!=0):\n",
    "            return self.queue[0]\n",
    "        else:\n",
    "            raise IndexError(\"Queue UnderFlow\")\n",
    "            "
   ]
  },
  {
   "cell_type": "code",
   "execution_count": 52,
   "id": "5ef63d6b",
   "metadata": {},
   "outputs": [
    {
     "name": "stdout",
     "output_type": "stream",
     "text": [
      "5\n",
      "5\n",
      "6\n",
      "6\n",
      "7\n",
      "8\n",
      "9\n",
      "[0, 0, 0, 0, 0]\n"
     ]
    }
   ],
   "source": [
    "laQ = LA_Queue()\n",
    "laQ.enqueue(5)\n",
    "laQ.enqueue(6)\n",
    "laQ.enqueue(7)\n",
    "laQ.enqueue(8)\n",
    "laQ.enqueue(9)\n",
    "print(laQ.peek())\n",
    "print(laQ.dequeue())\n",
    "print(laQ.peek())\n",
    "print(laQ.dequeue())\n",
    "print(laQ.dequeue())\n",
    "print(laQ.dequeue())\n",
    "print(laQ.dequeue())\n",
    "print(laQ.queue)"
   ]
  },
  {
   "cell_type": "code",
   "execution_count": 152,
   "id": "ec42f28c",
   "metadata": {},
   "outputs": [],
   "source": [
    "#Queue With Circular Array\n",
    "class CA_Queue:\n",
    "    queue = [0]*5\n",
    "    length = 5\n",
    "    size = 0\n",
    "    start = 0\n",
    "    def enqueue(self,v):\n",
    "        \n",
    "        if(self.size==self.length):\n",
    "            raise IndexError(\"Queue OverFlow\")\n",
    "        index = (self.size+self.start)%self.length\n",
    "        self.queue[index] = v\n",
    "        self.size +=1\n",
    "        \n",
    "    def dequeue(self):\n",
    "        dItem = self.queue[self.start]\n",
    "        if(self.size==0):\n",
    "            raise IndexError(\"Queue UnderFlow\")\n",
    "        self.queue[self.start]= 0\n",
    "        self.start = (self.start+1)%self.length\n",
    "        self.size -=1\n",
    "        return dItem\n",
    "    \n",
    "    def peek(self):\n",
    "        if(self.size!=0):\n",
    "            return self.queue[self.start]\n",
    "        else:\n",
    "            raise IndexError(\"Queue UnderFlow\")"
   ]
  },
  {
   "cell_type": "code",
   "execution_count": 219,
   "id": "6af6b01c",
   "metadata": {},
   "outputs": [
    {
     "name": "stdout",
     "output_type": "stream",
     "text": [
      "5\n",
      "5\n",
      "6\n",
      "6\n",
      "7\n",
      "8\n",
      "9\n",
      "[0, 0, 0, 0, 0]\n"
     ]
    }
   ],
   "source": [
    "caQ = CA_Queue()\n",
    "caQ.enqueue(5)\n",
    "caQ.enqueue(6)\n",
    "caQ.enqueue(7)\n",
    "caQ.enqueue(8)\n",
    "caQ.enqueue(9)\n",
    "print(caQ.peek())\n",
    "print(caQ.dequeue())\n",
    "print(caQ.peek())\n",
    "print(caQ.dequeue())\n",
    "print(caQ.dequeue())\n",
    "print(caQ.dequeue())\n",
    "print(caQ.dequeue())\n",
    "print(caQ.queue)\n",
    "# print(caQ.size)\n",
    "# print(caQ.start)"
   ]
  },
  {
   "cell_type": "code",
   "execution_count": 255,
   "id": "70cd6de8",
   "metadata": {},
   "outputs": [],
   "source": [
    "#Queue With Dummy Headed Doubly Circular Linked List\n",
    "class Node:\n",
    "    def __init__(self,v,p=None,n=None):\n",
    "        self.value = v\n",
    "        self.next = n\n",
    "        self.prev = p\n",
    "        \n",
    "class LL_Queue:\n",
    "    def __init__(self):\n",
    "        self.head = Node(None)\n",
    "        self.head.next = self.head.prev = self.head\n",
    "    \n",
    "    def enqueue(self,v):\n",
    "        nQueueItem = Node(v,self.head.prev,self.head)\n",
    "        self.head.prev.next = self.head.prev= nQueueItem\n",
    "        \n",
    "    def dequeue(self):\n",
    "        if(self.head.next==self.head):\n",
    "            raise IndexError(\"Queue underFlow\")\n",
    "        dItem = self.head.next\n",
    "        self.head.next = dItem.next\n",
    "        dItem.next.prev = self.head\n",
    "        dValue = dItem.value\n",
    "        dItem.value = dItem.next = dItem.prev = None\n",
    "        return dValue\n",
    "    def peek(self):\n",
    "        if(self.head.next == self.head):\n",
    "            return \"Empty Queue\"\n",
    "        return self.head.next.value\n",
    "    \n",
    "    def print_queue(self):\n",
    "        itr = self.head.next\n",
    "        while(itr!= self.head):\n",
    "            print(itr.value,end=\" -> \")\n",
    "            itr = itr.next\n",
    "        print()"
   ]
  },
  {
   "cell_type": "code",
   "execution_count": 266,
   "id": "3425dbc7",
   "metadata": {},
   "outputs": [
    {
     "name": "stdout",
     "output_type": "stream",
     "text": [
      "5\n",
      "5\n",
      "6\n",
      "6\n",
      "7\n",
      "8\n",
      "9\n",
      "10\n",
      "10 -> 10 -> \n"
     ]
    }
   ],
   "source": [
    "llQ = LL_Queue()\n",
    "llQ.enqueue(5)\n",
    "llQ.enqueue(6)\n",
    "llQ.enqueue(7)\n",
    "llQ.enqueue(8)\n",
    "llQ.enqueue(9)\n",
    "llQ.enqueue(10)\n",
    "print(llQ.peek())\n",
    "print(llQ.dequeue())\n",
    "print(llQ.peek())\n",
    "print(llQ.dequeue())\n",
    "print(llQ.dequeue())\n",
    "print(llQ.dequeue())\n",
    "print(llQ.dequeue())\n",
    "print(llQ.dequeue())\n",
    "# print(llQ.dequeue())\n",
    "llQ.enqueue(10)\n",
    "llQ.enqueue(10)\n",
    "\n",
    "llQ.print_queue()"
   ]
  },
  {
   "cell_type": "code",
   "execution_count": null,
   "id": "a1ebedef",
   "metadata": {},
   "outputs": [],
   "source": [
    "#Priority Queue\n",
    "#Method 1\n",
    "class Priority_Queue(LL_Queue):\n",
    "    \n",
    "    def dequeue(self):\n",
    "        "
   ]
  },
  {
   "cell_type": "code",
   "execution_count": null,
   "id": "ce286be9",
   "metadata": {},
   "outputs": [],
   "source": []
  }
 ],
 "metadata": {
  "kernelspec": {
   "display_name": "Python 3",
   "language": "python",
   "name": "python3"
  },
  "language_info": {
   "codemirror_mode": {
    "name": "ipython",
    "version": 3
   },
   "file_extension": ".py",
   "mimetype": "text/x-python",
   "name": "python",
   "nbconvert_exporter": "python",
   "pygments_lexer": "ipython3",
   "version": "3.8.8"
  }
 },
 "nbformat": 4,
 "nbformat_minor": 5
}
