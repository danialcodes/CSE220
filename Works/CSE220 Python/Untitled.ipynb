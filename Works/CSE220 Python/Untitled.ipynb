{
 "cells": [
  {
   "cell_type": "code",
   "execution_count": 2,
   "id": "08d236a8",
   "metadata": {},
   "outputs": [
    {
     "name": "stdout",
     "output_type": "stream",
     "text": [
      "[10, 20, 30, 40, 50, 0, 0, 0, 0, 0, 0]\n",
      "[50, 20, 30, 40, 0, 0, 0, 0, 0, 0, 0]\n",
      "[50, 20, 30, 0, 0, 0, 0, 0, 0, 0, 40]\n",
      "[50, 20, 0, 0, 0, 0, 0, 0, 0, 30, 40]\n",
      "[50, 0, 0, 0, 0, 0, 0, 0, 20, 30, 40]\n",
      "[50, 0, 0, 0, 0, 0, 0, 0, 20, 30, 40]\n"
     ]
    }
   ],
   "source": [
    "def make_cir(arr,index,size):\n",
    "    lst_index = (index+size-1)%len(arr)\n",
    "    \n",
    "    for i in range(size-1,0,-1):\n",
    "        arr[lst_index] = arr[i]\n",
    "        arr[i]=0\n",
    "        lst_index-=1\n",
    "        if(lst_index)<0:\n",
    "            lst_index=len(arr)-1\n",
    "        print(arr)\n",
    "arr = [10,20,30,40,50,0,0,0,0,0,0]\n",
    "print(arr)\n",
    "make_cir(arr,7,5)\n",
    "print(arr)\n"
   ]
  },
  {
   "cell_type": "code",
   "execution_count": 22,
   "id": "afa5b98e",
   "metadata": {},
   "outputs": [
    {
     "data": {
      "text/plain": [
       "9"
      ]
     },
     "execution_count": 22,
     "metadata": {},
     "output_type": "execute_result"
    }
   ],
   "source": []
  },
  {
   "cell_type": "code",
   "execution_count": 8,
   "id": "553e2d0e",
   "metadata": {},
   "outputs": [
    {
     "name": "stdout",
     "output_type": "stream",
     "text": [
      "[40, 50, 0, 0, 0, 0, 0, 0, 10, 20, 30]\n",
      "10 20 30 40 50 "
     ]
    }
   ],
   "source": [
    "#Circular Array Forward Printing\n",
    "def print_arr(arr,start,size):\n",
    "    indx = start\n",
    "    for i in range(size):\n",
    "        print(arr[indx],end=\" \")\n",
    "        indx+=1\n",
    "        if(indx==(len(arr))):\n",
    "            indx=0\n",
    "arr = [40,50,0, 0, 0,0,0,0, 10, 20, 30]\n",
    "size = 5\n",
    "start = 8\n",
    "print(arr)\n",
    "print_arr(arr,start,size)"
   ]
  },
  {
   "cell_type": "code",
   "execution_count": 21,
   "id": "52419190",
   "metadata": {},
   "outputs": [
    {
     "name": "stdout",
     "output_type": "stream",
     "text": [
      "[40, 50, 0, 0, 0, 0, 0, 0, 10, 20, 30]\n",
      "50 40 30 20 10 "
     ]
    }
   ],
   "source": [
    "#Reverse Printing Circular Array\n",
    "\n",
    "def reverse_Print(arr,start,size):\n",
    "    lst_indx = (size+start-1)%len(arr)\n",
    "    for i in range(size):\n",
    "        print(arr[lst_indx],end=\" \")\n",
    "        lst_indx -=1\n",
    "        if(lst_indx<0):\n",
    "            lst_indx=len(arr)-1\n",
    "\n",
    "# arr = [10, 20, 30, 40, 50, 0, 0, 0, 0, 0, 0]\n",
    "arr = [40,50,0, 0, 0,0,0,0, 10, 20, 30]\n",
    "print(arr)\n",
    "reverse_Print(arr,8,5)"
   ]
  },
  {
   "cell_type": "code",
   "execution_count": 7,
   "id": "5656804e",
   "metadata": {},
   "outputs": [
    {
     "name": "stdout",
     "output_type": "stream",
     "text": [
      "[10, 20, 30, 40, 50, 0, 0, 0, 0, 0, 0]\n",
      "[20, 30, 40, 50, 0, 0, 0, 0, 0, 0, 10]\n"
     ]
    }
   ],
   "source": [
    "def be_circular(array,index,size):\n",
    "    cir_arr = [0] * len(array)\n",
    "    for i in range(size):\n",
    "        cir_arr[index] = array[i]\n",
    "        index = (index+1)%len(array)\n",
    "    return cir_arr\n",
    "arr = [10, 20, 30, 40, 50, 0, 0, 0, 0, 0, 0]\n",
    "print(arr)\n",
    "cir_arr = be_circular(arr,10,5)\n",
    "print(cir_arr)"
   ]
  },
  {
   "cell_type": "code",
   "execution_count": 10,
   "id": "e0f57f07",
   "metadata": {},
   "outputs": [
    {
     "name": "stdout",
     "output_type": "stream",
     "text": [
      "[30, 40, 50, 0, 0, 0, 0, 0, 0, 10, 20]\n",
      "[10, 20, 30, 40, 50, 0, 0, 0, 0, 0, 0]\n"
     ]
    }
   ],
   "source": [
    "def be_linear(array,start,size):\n",
    "    lin_arr = [0] * len(array)\n",
    "    for i in range(size):\n",
    "        lin_arr[i] = array[start]\n",
    "        start = (start+1)%len(array)\n",
    "    return lin_arr\n",
    "\n",
    "arr = [30, 40, 50, 0, 0, 0, 0, 0, 0, 10,20]\n",
    "print(arr)\n",
    "lin_arr = be_linear(arr,9,5)\n",
    "print(lin_arr)"
   ]
  },
  {
   "cell_type": "code",
   "execution_count": 15,
   "id": "4d2fcbbb",
   "metadata": {},
   "outputs": [
    {
     "name": "stdout",
     "output_type": "stream",
     "text": [
      "[20, 30, 40, 50, 10]\n",
      "[0, 0, 0, 0, 10, 20, 30, 40, 50, 0]\n"
     ]
    }
   ],
   "source": [
    "def resize_circular(array,start,size,inc):\n",
    "    resized_array = [0]*(size+inc)\n",
    "    res_start = start\n",
    "    for i in range(size):\n",
    "        resized_array[res_start] = array[start]\n",
    "        start = (start+1)%size\n",
    "        res_start = (res_start+1)%len(resized_array)\n",
    "    \n",
    "    return resized_array\n",
    "cir_arr = [20,30, 40, 50, 10]\n",
    "print(cir_arr)\n",
    "resized_array =  resize_circular(cir_arr,4,5,5)\n",
    "print(resized_array)"
   ]
  },
  {
   "cell_type": "code",
   "execution_count": 17,
   "id": "5e2cc29f",
   "metadata": {},
   "outputs": [
    {
     "name": "stdout",
     "output_type": "stream",
     "text": [
      "[20, 30, 40, 50, 10]\n",
      "[20, 30, 40, 80, 50, 10]\n"
     ]
    }
   ],
   "source": [
    "def insert_circular(cir,start,size,ins_indx,value):\n",
    "    new_cir = [0]*(size+1)\n",
    "    nc_in = size\n",
    "    cir_in = size-1\n",
    "    for i in range(size+1):\n",
    "        new_cir[nc_in] = cir[cir_in]\n",
    "        nc_in = (nc_in+1)%len(new_cir)\n",
    "        cir_in = (cir_in+1)%len(cir)\n",
    "        if(nc_in==ins_indx):\n",
    "            new_cir[nc_in] = value\n",
    "            nc_in = (nc_in+1)%len(new_cir)\n",
    "    return new_cir\n",
    "        \n",
    "\n",
    "cir_arr = [20,30, 40, 50, 10]\n",
    "print(cir_arr)\n",
    "inserted =  insert_circular(cir_arr,4,5,3,80)\n",
    "print(inserted)"
   ]
  },
  {
   "cell_type": "code",
   "execution_count": 20,
   "id": "5598a815",
   "metadata": {},
   "outputs": [
    {
     "name": "stdout",
     "output_type": "stream",
     "text": [
      "[20, 30, 40, 50, 10]\n"
     ]
    },
    {
     "ename": "IndexError",
     "evalue": "list index out of range",
     "output_type": "error",
     "traceback": [
      "\u001b[1;31m---------------------------------------------------------------------------\u001b[0m",
      "\u001b[1;31mIndexError\u001b[0m                                Traceback (most recent call last)",
      "\u001b[1;32m<ipython-input-20-fe6759bdb23c>\u001b[0m in \u001b[0;36m<module>\u001b[1;34m\u001b[0m\n\u001b[0;32m     12\u001b[0m \u001b[0mcir_arr\u001b[0m \u001b[1;33m=\u001b[0m \u001b[1;33m[\u001b[0m\u001b[1;36m20\u001b[0m\u001b[1;33m,\u001b[0m\u001b[1;36m30\u001b[0m\u001b[1;33m,\u001b[0m \u001b[1;36m40\u001b[0m\u001b[1;33m,\u001b[0m \u001b[1;36m50\u001b[0m\u001b[1;33m,\u001b[0m \u001b[1;36m10\u001b[0m\u001b[1;33m]\u001b[0m\u001b[1;33m\u001b[0m\u001b[1;33m\u001b[0m\u001b[0m\n\u001b[0;32m     13\u001b[0m \u001b[0mprint\u001b[0m\u001b[1;33m(\u001b[0m\u001b[0mcir_arr\u001b[0m\u001b[1;33m)\u001b[0m\u001b[1;33m\u001b[0m\u001b[1;33m\u001b[0m\u001b[0m\n\u001b[1;32m---> 14\u001b[1;33m \u001b[0mnew_cir\u001b[0m \u001b[1;33m=\u001b[0m  \u001b[0mdel_cir\u001b[0m\u001b[1;33m(\u001b[0m\u001b[0mcir_arr\u001b[0m\u001b[1;33m,\u001b[0m\u001b[1;36m4\u001b[0m\u001b[1;33m,\u001b[0m\u001b[1;36m5\u001b[0m\u001b[1;33m,\u001b[0m\u001b[1;36m3\u001b[0m\u001b[1;33m)\u001b[0m\u001b[1;33m\u001b[0m\u001b[1;33m\u001b[0m\u001b[0m\n\u001b[0m\u001b[0;32m     15\u001b[0m \u001b[0mprint\u001b[0m\u001b[1;33m(\u001b[0m\u001b[0mnew_cir\u001b[0m\u001b[1;33m)\u001b[0m\u001b[1;33m\u001b[0m\u001b[1;33m\u001b[0m\u001b[0m\n",
      "\u001b[1;32m<ipython-input-20-fe6759bdb23c>\u001b[0m in \u001b[0;36mdel_cir\u001b[1;34m(cir, start, size, del_indx)\u001b[0m\n\u001b[0;32m      5\u001b[0m         \u001b[1;32mif\u001b[0m\u001b[1;33m(\u001b[0m\u001b[0mdel_indx\u001b[0m\u001b[1;33m==\u001b[0m\u001b[0mstart\u001b[0m\u001b[1;33m)\u001b[0m\u001b[1;33m:\u001b[0m\u001b[1;33m\u001b[0m\u001b[1;33m\u001b[0m\u001b[0m\n\u001b[0;32m      6\u001b[0m             \u001b[0msize\u001b[0m \u001b[1;33m=\u001b[0m \u001b[1;33m(\u001b[0m\u001b[0msize\u001b[0m\u001b[1;33m+\u001b[0m\u001b[1;36m1\u001b[0m\u001b[1;33m)\u001b[0m\u001b[1;33m%\u001b[0m\u001b[0mlen\u001b[0m\u001b[1;33m(\u001b[0m\u001b[0mcir\u001b[0m\u001b[1;33m)\u001b[0m\u001b[1;33m\u001b[0m\u001b[1;33m\u001b[0m\u001b[0m\n\u001b[1;32m----> 7\u001b[1;33m         \u001b[0mnew_cir\u001b[0m\u001b[1;33m[\u001b[0m\u001b[0mnc_s\u001b[0m\u001b[1;33m]\u001b[0m \u001b[1;33m=\u001b[0m \u001b[0mcir\u001b[0m\u001b[1;33m[\u001b[0m\u001b[0msize\u001b[0m\u001b[1;33m]\u001b[0m\u001b[1;33m\u001b[0m\u001b[1;33m\u001b[0m\u001b[0m\n\u001b[0m\u001b[0;32m      8\u001b[0m         \u001b[0mnc_s\u001b[0m \u001b[1;33m=\u001b[0m \u001b[1;33m(\u001b[0m\u001b[0mnc_s\u001b[0m\u001b[1;33m+\u001b[0m\u001b[1;36m1\u001b[0m\u001b[1;33m)\u001b[0m\u001b[1;33m%\u001b[0m\u001b[0mlen\u001b[0m\u001b[1;33m(\u001b[0m\u001b[0mnew_cir\u001b[0m\u001b[1;33m)\u001b[0m\u001b[1;33m\u001b[0m\u001b[1;33m\u001b[0m\u001b[0m\n\u001b[0;32m      9\u001b[0m         \u001b[0msize\u001b[0m \u001b[1;33m=\u001b[0m \u001b[1;33m(\u001b[0m\u001b[0msize\u001b[0m\u001b[1;33m+\u001b[0m\u001b[1;36m1\u001b[0m\u001b[1;33m)\u001b[0m\u001b[1;33m%\u001b[0m\u001b[0mlen\u001b[0m\u001b[1;33m(\u001b[0m\u001b[0mcir\u001b[0m\u001b[1;33m)\u001b[0m\u001b[1;33m\u001b[0m\u001b[1;33m\u001b[0m\u001b[0m\n",
      "\u001b[1;31mIndexError\u001b[0m: list index out of range"
     ]
    }
   ],
   "source": [
    "def del_cir(cir,start,size,del_indx):\n",
    "    new_cir = [0]*(size-1)\n",
    "    nc_s = start-1\n",
    "    for i in range(size):\n",
    "        if(del_indx==start):\n",
    "            size = (size+1)%len(cir)\n",
    "        new_cir[nc_s] = cir[size]\n",
    "        nc_s = (nc_s+1)%len(new_cir)\n",
    "        size = (size+1)%len(cir)\n",
    "    return new_cir\n",
    "\n",
    "cir_arr = [20,30, 40, 50, 10]\n",
    "print(cir_arr)\n",
    "new_cir =  del_cir(cir_arr,4,5,3)\n",
    "print(new_cir)"
   ]
  },
  {
   "cell_type": "code",
   "execution_count": null,
   "id": "6d5fcac8",
   "metadata": {},
   "outputs": [],
   "source": []
  }
 ],
 "metadata": {
  "kernelspec": {
   "display_name": "Python 3",
   "language": "python",
   "name": "python3"
  },
  "language_info": {
   "codemirror_mode": {
    "name": "ipython",
    "version": 3
   },
   "file_extension": ".py",
   "mimetype": "text/x-python",
   "name": "python",
   "nbconvert_exporter": "python",
   "pygments_lexer": "ipython3",
   "version": "3.8.8"
  }
 },
 "nbformat": 4,
 "nbformat_minor": 5
}
