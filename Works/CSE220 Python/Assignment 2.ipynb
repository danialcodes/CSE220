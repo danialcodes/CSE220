{
 "cells": [
  {
   "cell_type": "code",
   "execution_count": 1,
   "id": "47d81c79",
   "metadata": {},
   "outputs": [],
   "source": [
    "#Task 1\n",
    "class Node:\n",
    "    def __init__(self,d,n):\n",
    "        self.data = d\n",
    "        self.next = n"
   ]
  },
  {
   "cell_type": "code",
   "execution_count": 2,
   "id": "de40818d",
   "metadata": {},
   "outputs": [],
   "source": [
    "class MyList:\n",
    "#   Task 2.1.a\n",
    "    def __init__(self,iterable):\n",
    "        self.head = None\n",
    "        tail = None\n",
    "        for i in iterable:\n",
    "            presentNode = Node(i,None)\n",
    "            if(self.head is None):\n",
    "                self.head = presentNode\n",
    "                tail = self.head\n",
    "            else:\n",
    "                tail.next = presentNode\n",
    "                tail = presentNode\n",
    "#   Task 2.2\n",
    "    def showList(self):\n",
    "        if (self.head is None):\n",
    "            print(\"Empty list\")\n",
    "        else:\n",
    "            itr = self.head\n",
    "            while (itr is not None):\n",
    "                if(itr.next is None):\n",
    "                    print(itr.data)\n",
    "                else:\n",
    "                    print(itr.data,end=\" -> \")\n",
    "                itr = itr.next\n",
    "#   Task 2.3\n",
    "    def isEmpty(self):\n",
    "        if(self.head is None):\n",
    "            return True\n",
    "        return False\n",
    "#   Task 2.4\n",
    "    def clear(self):\n",
    "        if(not self.isEmpty()):\n",
    "            self.head = None\n",
    "#   Self made method to reduce code rewritting\n",
    "    def findIndex(self,element):\n",
    "        itr = self.head\n",
    "        count = 0\n",
    "        while (itr is not None):\n",
    "            if (itr.data == element):\n",
    "                return count\n",
    "            itr = itr.next\n",
    "            count+=1\n",
    "        return False\n",
    "#   Self made method to reduce code rewritting\n",
    "    def size(self):\n",
    "        itr = self.head\n",
    "        count = 0\n",
    "        while(itr is not None):\n",
    "            count+=1\n",
    "            itr = itr.next\n",
    "        return count\n",
    "#   Self made method to reduce code rewritting\n",
    "    def nodeAt(self,index):\n",
    "        if(index>=0 and index<self.size()):\n",
    "            itr = self.head\n",
    "            count = 0\n",
    "            while(count<index):\n",
    "                itr = itr.next\n",
    "                count+=1\n",
    "            return itr\n",
    "#   Task 2.5 - 2.6\n",
    "    def insert(self, newElement,index=None):\n",
    "        if(index == None):\n",
    "            if (self.findIndex(newElement)):\n",
    "                print(\"key {} already exists!\".format(newElement))\n",
    "                return\n",
    "            tail = Node(newElement,None)\n",
    "            lastNode = self.nodeAt(self.size()-1)\n",
    "            lastNode.next = tail\n",
    "        else:\n",
    "            if (not self.isEmpty()):\n",
    "                size = self.size()\n",
    "                if (index>=0 and index<=size):\n",
    "                    if (self.findIndex(newElement)):\n",
    "                        print(\"key {} already exists!\".format(newElement))\n",
    "                        return\n",
    "                    if(index==0):\n",
    "                        newNode = Node(newElement,self.head)\n",
    "                        self.head = newNode\n",
    "                    elif(index==size):\n",
    "                        preNode = self.nodeAt(index-1)\n",
    "                        newNode = Node(newElement,None)\n",
    "                        preNode.next = newNode\n",
    "                    else:  \n",
    "                        preNode = self.nodeAt(index-1)\n",
    "                        newNode = Node(newElement,preNode.next)\n",
    "                        preNode.next = newNode\n",
    "#   Task 2.7\n",
    "    def remove(self, deletekey):\n",
    "        if (not self.isEmpty()):\n",
    "            if(self.head.data == deletekey):\n",
    "                self.head = self.head.next\n",
    "            else:\n",
    "                delIndex = self.findIndex(deletekey)\n",
    "                if(delIndex):\n",
    "                    preDelItem = self.nodeAt(delIndex-1)\n",
    "                    preDelItem.next = preDelItem.next.next\n",
    "                    return deletekey\n",
    "                else:\n",
    "                    print(\"Key {} does not exist\".format(deletekey))\n",
    "#    Task 3.1\n",
    "    def makeEvenList(self):\n",
    "        itr = self.head\n",
    "        count = 0\n",
    "        evenList = None\n",
    "        while (itr is not None):\n",
    "            if(itr.data%2==0):\n",
    "                if(count == 0):\n",
    "                    evenList = MyList([itr.data])\n",
    "                else:\n",
    "                    evenList.insert(itr.data)\n",
    "                count+=1\n",
    "            itr = itr.next\n",
    "        return evenList\n",
    "#     Task 3.2\n",
    "    def find(self,element):\n",
    "        if (self.findIndex(element)):\n",
    "            return True\n",
    "        return False\n",
    "#     Task 3.3\n",
    "    def reverse(self):\n",
    "        itr = self.head\n",
    "        newHead = None\n",
    "        while (itr is not None):\n",
    "            nextElement = itr.next\n",
    "            itr.next = newHead\n",
    "            newHead = itr\n",
    "            itr = nextElement\n",
    "        self.head = newHead\n",
    "#     Task 3.4\n",
    "    def sort(self):\n",
    "        itr = self.head\n",
    "        while (itr is not None):\n",
    "            next = itr.next\n",
    "            while (next is not None):\n",
    "                if(itr.data>next.data):\n",
    "                    temp = next.data\n",
    "                    next.data = itr.data\n",
    "                    itr.data = temp\n",
    "                next = next.next\n",
    "            itr = itr.next\n",
    "                \n",
    "#     Task 3.5\n",
    "    def total(self):\n",
    "        count = 0\n",
    "        itr = self.head\n",
    "        while (itr is not None):\n",
    "            count+=itr.data\n",
    "            itr = itr.next\n",
    "        return count\n",
    "#   Self made method to reduce code writting\n",
    "    def rotateLeft(self):\n",
    "        newHead = self.head.next\n",
    "        preLastNode = self.nodeAt(self.size()-1)\n",
    "        self.head.next = None\n",
    "        preLastNode.next = self.head\n",
    "        self.head = newHead\n",
    "#   Self made method to reduce code writting\n",
    "    def rotateRight(self):\n",
    "        newLastNode = self.nodeAt(self.size()-2)\n",
    "        newHead = newLastNode.next\n",
    "        newLastNode.next = None\n",
    "        newHead.next = self.head\n",
    "        self.head = newHead\n",
    "#     Task 3.6\n",
    "    def rotateKTimes(self,d,t):\n",
    "        if(d.lower()=='left'):\n",
    "            count = 0\n",
    "            while (count<t):\n",
    "                self.rotateLeft()\n",
    "                count+=1\n",
    "        elif(d.lower()=='right'):\n",
    "            count = 0\n",
    "            while (count<t):\n",
    "                self.rotateRight()\n",
    "                count+=1"
   ]
  },
  {
   "cell_type": "code",
   "execution_count": 3,
   "id": "49bda49e",
   "metadata": {},
   "outputs": [],
   "source": [
    "#==========================Tester Code==========================#"
   ]
  },
  {
   "cell_type": "code",
   "execution_count": 4,
   "id": "e04bf8f2",
   "metadata": {},
   "outputs": [
    {
     "name": "stdout",
     "output_type": "stream",
     "text": [
      "\n",
      "//=======Task 2.1, 2.2 -- Constructor & showList=======//\n",
      "10 -> 20 -> 30 -> 40 -> 50 -> 60\n"
     ]
    }
   ],
   "source": [
    "#Task-2.1, 2.2 -- Constructor & showList\n",
    "print(\"\\n//=======Task 2.1, 2.2 -- Constructor & showList=======//\")\n",
    "a = [10, 20, 30, 40, 50, 60]\n",
    "l1 = MyList(a)\n",
    "l1.showList() #Should print: 10->20->30->40->50->60"
   ]
  },
  {
   "cell_type": "code",
   "execution_count": 5,
   "id": "0c952e31",
   "metadata": {},
   "outputs": [
    {
     "name": "stdout",
     "output_type": "stream",
     "text": [
      "\n",
      "//========Task 2.3 -- isEmpty========//\n",
      "False\n",
      "True\n"
     ]
    }
   ],
   "source": [
    "#Task-2.3 -- isEmpty\n",
    "print(\"\\n//========Task 2.3 -- isEmpty========//\")\n",
    "isListEmpty = l1.isEmpty()\n",
    "print(isListEmpty) #Should print: false\n",
    "b = []\n",
    "l2 = MyList(b)\n",
    "isListEmpty = l2.isEmpty()\n",
    "print(isListEmpty) #Should print: true"
   ]
  },
  {
   "cell_type": "code",
   "execution_count": 6,
   "id": "522c1da7",
   "metadata": {},
   "outputs": [
    {
     "name": "stdout",
     "output_type": "stream",
     "text": [
      "\n",
      "//=======Task 2.4 -- Clear =======//\n",
      "Before clearing Linked List\n",
      "10 -> 20 -> 30 -> 40 -> 50 -> 60\n",
      "After clearing Linked List\n",
      "Empty list\n"
     ]
    }
   ],
   "source": [
    "#Task-2.4 -- Clear\n",
    "print(\"\\n//=======Task 2.4 -- Clear =======//\")\n",
    "print(\"Before clearing Linked List\")\n",
    "l1.showList() #Should print: 10->20->30->40->50->60\n",
    "l1.clear()\n",
    "print(\"After clearing Linked List\")\n",
    "l1.showList() #Should print: Empty List"
   ]
  },
  {
   "cell_type": "code",
   "execution_count": 7,
   "id": "f0ec8648",
   "metadata": {},
   "outputs": [
    {
     "name": "stdout",
     "output_type": "stream",
     "text": [
      "\n",
      "//=======Task 2.5, 2.6 -- Insert=======//\n",
      "10 -> 20 -> 30 -> 40 -> 50 -> 60 -> 70 -> 80 -> 90\n",
      "10 -> 20 -> 30 -> 40 -> 50 -> 60 -> 70 -> 80 -> 90 -> 100\n",
      "0 -> 10 -> 20 -> 30 -> 40 -> 50 -> 60 -> 70 -> 80 -> 90 -> 100\n",
      "0 -> 10 -> 20 -> 30 -> 40 -> 110 -> 50 -> 60 -> 70 -> 80 -> 90 -> 100\n",
      "0 -> 10 -> 20 -> 30 -> 40 -> 110 -> 50 -> 60 -> 70 -> 80 -> 90 -> 100 -> 120\n",
      "key 50 already exists!\n"
     ]
    }
   ],
   "source": [
    "#Task-2.5, 2.6 -- Insert\n",
    "print(\"\\n//=======Task 2.5, 2.6 -- Insert=======//\")\n",
    "c = [10, 20, 30, 40, 50, 60, 70, 80, 90]\n",
    "l3 = MyList(c)\n",
    "l3.showList() #Should print: 10->20->30->40->50->60->70->80->90\n",
    "l3.insert(100)\n",
    "l3.showList() #Should print: 10->20->30->40->50->60->70->80->90->100\n",
    "l3.insert(0, 0)\n",
    "l3.showList() #Should print: 0->10->20->30->40->50->60->70->80->90->100\n",
    "l3.insert(110, 5)\n",
    "l3.showList() #Should print: 0->10->20->30->40->110->50->60->70->80->90->100\n",
    "l3.insert(120, 12)\n",
    "l3.showList() #Should print: 0->10->20->30->40->110->50->60->70->80->90->100->120\n",
    "l3.insert(50) #Should print: Key 50 already exists"
   ]
  },
  {
   "cell_type": "code",
   "execution_count": 8,
   "id": "05e70b55",
   "metadata": {},
   "outputs": [
    {
     "name": "stdout",
     "output_type": "stream",
     "text": [
      "\n",
      "//=======Task 2.7 -- Remove=======//\n",
      "0 -> 10 -> 20 -> 30 -> 40 -> 110 -> 50 -> 60 -> 70 -> 80 -> 90 -> 100 -> 120\n",
      "10 -> 20 -> 30 -> 40 -> 110 -> 50 -> 60 -> 70 -> 80 -> 90 -> 100 -> 120\n",
      "10 -> 20 -> 30 -> 40 -> 50 -> 60 -> 70 -> 80 -> 90 -> 100 -> 120\n",
      "10 -> 20 -> 30 -> 40 -> 50 -> 60 -> 70 -> 80 -> 90 -> 100\n",
      "Key 120 does not exist\n"
     ]
    }
   ],
   "source": [
    "#Task-2.7 -- Remove\n",
    "print(\"\\n//=======Task 2.7 -- Remove=======//\")\n",
    "l3.showList() #Should print: 0->10->20->30->40->110->50->60->70->80->90->100->120\n",
    "l3.remove(0)\n",
    "l3.showList() #Should print: 10->20->30->40->110->50->60->70->80->90->100->120\n",
    "l3.remove(110) \n",
    "l3.showList() #Should print: 10->20->30->40->50->60->70->80->90->100->120\n",
    "l3.remove(120)\n",
    "l3.showList() #Should print: 10->20->30->40->50->60->70->80->90->100\n",
    "l3.remove(120) #Should print: Key 120 does not exist"
   ]
  },
  {
   "cell_type": "code",
   "execution_count": 9,
   "id": "11f92265",
   "metadata": {},
   "outputs": [
    {
     "name": "stdout",
     "output_type": "stream",
     "text": [
      "\n",
      "//=======Task 2.8 -- EvenList =======//\n",
      "2 -> 8\n"
     ]
    }
   ],
   "source": [
    "#Task-2.8 -- EvenList\n",
    "print(\"\\n//=======Task 2.8 -- EvenList =======//\")\n",
    "d = [1, 2, 5, 3, 8]\n",
    "l4 = MyList(d)\n",
    "l5 = l4.makeEvenList()\n",
    "l5.showList() #Should print: 2->8"
   ]
  },
  {
   "cell_type": "code",
   "execution_count": 10,
   "id": "6cef8d4f",
   "metadata": {},
   "outputs": [
    {
     "name": "stdout",
     "output_type": "stream",
     "text": [
      "\n",
      "//=======Task 2.9 -- Find =======//\n",
      "True\n",
      "False\n"
     ]
    }
   ],
   "source": [
    "#Task-2.9 -- Find\n",
    "print(\"\\n//=======Task 2.9 -- Find =======//\")\n",
    "found = l4.find(5)\n",
    "print(found) #Should print: true\n",
    "found = l4.find(4)\n",
    "print(found) #Should print: false"
   ]
  },
  {
   "cell_type": "code",
   "execution_count": 11,
   "id": "268aa0a7",
   "metadata": {},
   "outputs": [
    {
     "name": "stdout",
     "output_type": "stream",
     "text": [
      "\n",
      "//=======Task 2.10 -- Reverse =======//\n",
      "Before Reverse: 1 -> 2 -> 5 -> 3 -> 8\n",
      "After Reverse: 8 -> 3 -> 5 -> 2 -> 1\n"
     ]
    }
   ],
   "source": [
    "#Task-2.10 -- Reverse List\n",
    "print(\"\\n//=======Task 2.10 -- Reverse =======//\")\n",
    "print(\"Before Reverse: \", end='')\n",
    "l4.showList() #Should print: 1->2->5->3->8\n",
    "l4.reverse()\n",
    "print(\"After Reverse: \", end='')\n",
    "l4.showList() #Should print: 8->3->5->2->1"
   ]
  },
  {
   "cell_type": "code",
   "execution_count": 12,
   "id": "2b3e7636",
   "metadata": {},
   "outputs": [
    {
     "name": "stdout",
     "output_type": "stream",
     "text": [
      "\n",
      "//=======Task 2.11 -- Sort =======//\n",
      "Before Sort: 8 -> 3 -> 5 -> 2 -> 1\n",
      "After Sort: 1 -> 2 -> 3 -> 5 -> 8\n"
     ]
    }
   ],
   "source": [
    "#Task-2.11 -- Sort\n",
    "print(\"\\n//=======Task 2.11 -- Sort =======//\")\n",
    "print(\"Before Sort: \", end='')\n",
    "l4.showList() #Should print: 8->3->5->2->1\n",
    "l4.sort()\n",
    "print(\"After Sort: \", end='')\n",
    "l4.showList() #Should print: 1->2->3->5->8"
   ]
  },
  {
   "cell_type": "code",
   "execution_count": 13,
   "id": "cb9a302a",
   "metadata": {},
   "outputs": [
    {
     "name": "stdout",
     "output_type": "stream",
     "text": [
      "\n",
      "//=======Task 2.12 -- Sum of Elements =======//\n",
      "1 -> 2 -> 3 -> 5 -> 8\n",
      "Sum of Elements: 19\n"
     ]
    }
   ],
   "source": [
    "#Task-2.12 -- Sum of Elements\n",
    "print(\"\\n//=======Task 2.12 -- Sum of Elements =======//\")\n",
    "l4.showList() #Should print: 1->2->3->5->8\n",
    "total = l4.total()\n",
    "print(\"Sum of Elements:\", total)"
   ]
  },
  {
   "cell_type": "code",
   "execution_count": 14,
   "id": "dc6e133e",
   "metadata": {},
   "outputs": [
    {
     "name": "stdout",
     "output_type": "stream",
     "text": [
      "\n",
      "//=======Task 2.13 -- Rotate =======//\n",
      "1 -> 2 -> 3 -> 5 -> 8\n",
      "3 -> 5 -> 8 -> 1 -> 2\n",
      "1 -> 2 -> 3 -> 5 -> 8\n"
     ]
    }
   ],
   "source": [
    "#Task-2.13 -- Rotate\n",
    "print(\"\\n//=======Task 2.13 -- Rotate =======//\")\n",
    "l4.showList() #Should print: 1->2->3->5->8\n",
    "l4.rotateKTimes(\"left\",2)\n",
    "l4.showList() #Should print: 3->5->8->1->2\n",
    "l4.rotateKTimes(\"right\",2)\n",
    "l4.showList() #Should print: 1->2->3->5->8"
   ]
  }
 ],
 "metadata": {
  "kernelspec": {
   "display_name": "Python 3",
   "language": "python",
   "name": "python3"
  },
  "language_info": {
   "codemirror_mode": {
    "name": "ipython",
    "version": 3
   },
   "file_extension": ".py",
   "mimetype": "text/x-python",
   "name": "python",
   "nbconvert_exporter": "python",
   "pygments_lexer": "ipython3",
   "version": "3.8.8"
  }
 },
 "nbformat": 4,
 "nbformat_minor": 5
}
