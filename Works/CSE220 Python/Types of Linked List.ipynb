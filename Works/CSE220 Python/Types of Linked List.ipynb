{
 "cells": [
  {
   "cell_type": "code",
   "execution_count": 1,
   "id": "9459c5c3",
   "metadata": {},
   "outputs": [],
   "source": [
    "#DHDLCL\n",
    "class Node:\n",
    "    def __init__(self,value,p,n):\n",
    "        self.value = value\n",
    "        self.next = n\n",
    "        self.prev = p\n",
    "        "
   ]
  },
  {
   "cell_type": "code",
   "execution_count": 7,
   "id": "1cf7ad82",
   "metadata": {},
   "outputs": [
    {
     "name": "stdout",
     "output_type": "stream",
     "text": [
      "6\n",
      "60\n"
     ]
    }
   ],
   "source": [
    "class DHDLCL:\n",
    "    def __init__(self,itr):\n",
    "        self.head = Node(None,None,None)\n",
    "        self.head.next = self.head.prev = self.head\n",
    "        \n",
    "        for item in itr:\n",
    "            n = Node(item,None,None)\n",
    "            n.next = self.head.next\n",
    "            n.prev = self.head\n",
    "            self.head.next = n\n",
    "            n.next.prev = n\n",
    "    def countNode(self):\n",
    "        itr = self.head.next\n",
    "        count = 0\n",
    "        while(itr is not x.head):\n",
    "            count+=1\n",
    "            itr = itr.next\n",
    "        return count\n",
    "    def nodeAt(self,v):\n",
    "        itr = x.head.next\n",
    "        count = 0\n",
    "        while(True):\n",
    "            if(count==v):\n",
    "                break\n",
    "            itr = itr.next\n",
    "            count+=1\n",
    "        return itr\n",
    "    \n",
    "a = [10,20,30,40,50,60]\n",
    "x = DHDLCL(a)\n",
    "print(x.countNode())\n",
    "print(x.nodeAt(0).value)"
   ]
  },
  {
   "cell_type": "code",
   "execution_count": 3,
   "id": "ee521776",
   "metadata": {},
   "outputs": [
    {
     "name": "stdout",
     "output_type": "stream",
     "text": [
      "60 -> 50 -> 40 -> 30 -> 20 -> 10 -> "
     ]
    }
   ],
   "source": [
    "itr = x.head.next\n",
    "while(itr is not x.head):\n",
    "    print(itr.data,end=\" -> \")\n",
    "    itr = itr.next"
   ]
  },
  {
   "cell_type": "code",
   "execution_count": 9,
   "id": "0eb03365",
   "metadata": {},
   "outputs": [
    {
     "name": "stdout",
     "output_type": "stream",
     "text": [
      "0\n",
      "even\n"
     ]
    }
   ],
   "source": [
    "def updateList(head,number):\n",
    "    totalNode = head.countNode()\n",
    "    result = totalNode%number\n",
    "    n = head.nodeAt(result)\n",
    "    if(result%2==0):\n",
    "        n.prev.next = n.next\n",
    "        n.next.prev = n.prev\n",
    "        n.prev = None\n",
    "        n.next = None\n",
    "    else:\n",
    "        newNode = Node(number,None,None)\n",
    "        newNode.prev = n.prev\n",
    "        n.prev.next = newNode\n",
    "        n.prev = newNode\n",
    "        newNode.next = n\n",
    "    return head\n",
    "        \n",
    "updateList(x,2)"
   ]
  },
  {
   "cell_type": "code",
   "execution_count": null,
   "id": "8163018a",
   "metadata": {},
   "outputs": [],
   "source": []
  }
 ],
 "metadata": {
  "kernelspec": {
   "display_name": "Python 3",
   "language": "python",
   "name": "python3"
  },
  "language_info": {
   "codemirror_mode": {
    "name": "ipython",
    "version": 3
   },
   "file_extension": ".py",
   "mimetype": "text/x-python",
   "name": "python",
   "nbconvert_exporter": "python",
   "pygments_lexer": "ipython3",
   "version": "3.8.8"
  }
 },
 "nbformat": 4,
 "nbformat_minor": 5
}
